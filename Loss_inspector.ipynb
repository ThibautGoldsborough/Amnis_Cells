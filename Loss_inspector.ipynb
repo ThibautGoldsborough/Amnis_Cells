{
 "cells": [
  {
   "cell_type": "code",
   "execution_count": null,
   "metadata": {},
   "outputs": [],
   "source": [
    "#Import required packages\n",
    "import cv2 as cv\n",
    "import os\n",
    "import matplotlib.pyplot as plt\n",
    "import numpy as np\n",
    "import pandas as pd\n",
    "import numpy as np\n",
    "outpath=r\"C:\\Users\\Thibaut Goldsborough\\Documents\\Seth_BoneMarrow\\Results\\Results\""
   ]
  },
  {
   "cell_type": "code",
   "execution_count": null,
   "metadata": {},
   "outputs": [],
   "source": [
    "\n",
    "import os\n",
    "\n",
    "directory_list = list()\n",
    "for root, dirs, files in os.walk(outpath, topdown=False):\n",
    "    for name in dirs:\n",
    "        directory_list.append(os.path.join(root, name))\n",
    "\n",
    "print(directory_list)"
   ]
  },
  {
   "cell_type": "code",
   "execution_count": null,
   "metadata": {},
   "outputs": [],
   "source": [
    "df_list=[]\n",
    "txt=[]\n",
    "\n",
    "for directory in directory_list:\n",
    "    \n",
    "    outpath=directory\n",
    "    print(directory.split(\"Res\")[-1])\n",
    "    csv_path=outpath+\"\\\\Resnet_loss\"+directory.split(\"Res\")[-1]+\".csv\"\n",
    "\n",
    "    with open(outpath+'\\\\readme.txt') as f:\n",
    "        lines = f.readlines()\n",
    "        print(lines)\n",
    "    txt.append(lines)\n",
    "\n",
    "\n",
    "    df=pd.read_csv(csv_path)\n",
    "    df_list.append(df)\n",
    "    print(len(df))\n"
   ]
  },
  {
   "cell_type": "code",
   "execution_count": null,
   "metadata": {},
   "outputs": [],
   "source": [
    "for i,df in enumerate(df_list):\n",
    "    train=df[\"train_loss\"].to_numpy()\n",
    "    val=df[\"val_loss\"].to_numpy()\n",
    "    plt.plot(train)\n",
    "    plt.plot(val)\n",
    "    plt.show()\n",
    "    print(\"Train\",np.mean(train[-5:]))\n",
    "    print(\"Validation\",np.mean(val[-5:]))\n",
    "    print(txt[i])"
   ]
  },
  {
   "cell_type": "code",
   "execution_count": null,
   "metadata": {},
   "outputs": [],
   "source": [
    "string=\"Rot44\""
   ]
  },
  {
   "cell_type": "code",
   "execution_count": null,
   "metadata": {},
   "outputs": [],
   "source": [
    "string[3:]"
   ]
  },
  {
   "cell_type": "code",
   "execution_count": null,
   "metadata": {},
   "outputs": [],
   "source": [
    "a=eval(\"3\")"
   ]
  },
  {
   "cell_type": "code",
   "execution_count": null,
   "metadata": {},
   "outputs": [],
   "source": [
    "a+2"
   ]
  },
  {
   "cell_type": "code",
   "execution_count": null,
   "metadata": {},
   "outputs": [],
   "source": [
    "eval(\"0.8\")*2"
   ]
  },
  {
   "cell_type": "code",
   "execution_count": null,
   "metadata": {},
   "outputs": [],
   "source": [
    "fig=plt.figure(figsize=(20,20))\n",
    "for i,df in enumerate(df_list):\n",
    "\n",
    "    train=df[\"train_loss\"].to_numpy()\n",
    "    val=df[\"val_loss\"].to_numpy()\n",
    "\n",
    "    if len(train)==100:\n",
    "      #  plt.plot(train)\n",
    "        plt.plot(val,label=i)\n",
    "    # plt.show()\n",
    "   # print(\"Train\",np.mean(train[-50:]))\n",
    "   # print(\"Validation\",np.mean(val[-50:]))\n",
    "    print(i,txt[i])\n",
    "    plt.legend()"
   ]
  },
  {
   "cell_type": "code",
   "execution_count": null,
   "metadata": {},
   "outputs": [],
   "source": []
  }
 ],
 "metadata": {
  "kernelspec": {
   "display_name": "Python 3.9.7 ('deep_learning')",
   "language": "python",
   "name": "python3"
  },
  "language_info": {
   "codemirror_mode": {
    "name": "ipython",
    "version": 3
   },
   "file_extension": ".py",
   "mimetype": "text/x-python",
   "name": "python",
   "nbconvert_exporter": "python",
   "pygments_lexer": "ipython3",
   "version": "3.9.7"
  },
  "orig_nbformat": 4,
  "vscode": {
   "interpreter": {
    "hash": "96e92283253362575e1b2577a58171a1def071c2d4840c376515c402fb1735d8"
   }
  }
 },
 "nbformat": 4,
 "nbformat_minor": 2
}
