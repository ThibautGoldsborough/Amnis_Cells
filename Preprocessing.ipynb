{
 "cells": [
  {
   "cell_type": "code",
   "execution_count": 8,
   "id": "37c43658",
   "metadata": {},
   "outputs": [],
   "source": [
    "#Import required packages\n",
    "import cv2 as cv\n",
    "import os\n",
    "import matplotlib.pyplot as plt\n",
    "import numpy as np\n",
    "import pandas as pd"
   ]
  },
  {
   "cell_type": "code",
   "execution_count": 9,
   "id": "450e333a",
   "metadata": {},
   "outputs": [],
   "source": [
    "#Insert filepath for local files  FOR THIBAUT\n",
    "basepath = r\"C:\\Users\\Thibaut Goldsborough\\Documents\\Seth_BoneMarrow\\Data\\BoneMarrow_unstained4\"\n",
    "readpath = basepath + \"\\\\Raw_Images\"\n",
    "outpath = basepath + \"\\\\Outputs\"\n",
    "file_prefix=\"\\\\unstained_\"\n",
    "\n",
    "num_images=10000\n",
    "\n",
    "image_dim=64 #Dim of the final images\n",
    "\n",
    "nuclear_channel=\"Ch7\"\n",
    "cellmask_channel=\"Ch1_mask\""
   ]
  },
  {
   "cell_type": "code",
   "execution_count": 10,
   "id": "914c7ff3",
   "metadata": {},
   "outputs": [],
   "source": [
    "#Insert filepath for local files  FOR THIBAUT\n",
    "basepath = r\"C:\\Users\\Thibaut Goldsborough\\Documents\\Seth_BoneMarrow\\Data\\BoneMarrow_smallerfile2\"\n",
    "readpath = basepath + \"\\\\Raw_Images\"\n",
    "outpath = basepath + \"\\\\Outputs\"\n",
    "file_prefix=\"\\\\smaller_file2_\"\n",
    "\n",
    "num_images=10000\n",
    "\n",
    "image_dim=64 #Dim of the final images\n",
    "\n",
    "nuclear_channel=\"Ch7\"\n",
    "cellmask_channel=\"Ch1_mask\""
   ]
  },
  {
   "cell_type": "code",
   "execution_count": 11,
   "id": "4c05be18",
   "metadata": {},
   "outputs": [],
   "source": [
    "#Insert filepath for local files  FOR THIBAUT\n",
    "basepath = r\"C:\\Users\\Thibaut Goldsborough\\Documents\\Seth_BoneMarrow\\Data\\BoneMarrow_sample1\"\n",
    "readpath = basepath + \"\\\\Raw_Images\"\n",
    "outpath = basepath + \"\\\\Outputs\"\n",
    "file_prefix=\"\\\\sample1_\"\n",
    "\n",
    "num_images=10000\n",
    "\n",
    "image_dim=64 #Dim of the final images\n",
    "\n",
    "nuclear_channel=\"Ch7\"\n",
    "cellmask_channel=\"Ch1_mask\""
   ]
  },
  {
   "cell_type": "code",
   "execution_count": 12,
   "id": "1cf0b176",
   "metadata": {},
   "outputs": [
    {
     "ename": "KeyboardInterrupt",
     "evalue": "",
     "output_type": "error",
     "traceback": [
      "\u001b[1;31m---------------------------------------------------------------------------\u001b[0m",
      "\u001b[1;31mKeyboardInterrupt\u001b[0m                         Traceback (most recent call last)",
      "\u001b[1;32mC:\\Users\\THIBAU~1\\AppData\\Local\\Temp/ipykernel_21436/2788721342.py\u001b[0m in \u001b[0;36m<module>\u001b[1;34m\u001b[0m\n\u001b[0;32m      2\u001b[0m \u001b[0mnames\u001b[0m\u001b[1;33m=\u001b[0m\u001b[1;33m[\u001b[0m\u001b[1;33m]\u001b[0m\u001b[1;33m\u001b[0m\u001b[1;33m\u001b[0m\u001b[0m\n\u001b[0;32m      3\u001b[0m \u001b[1;32mfor\u001b[0m \u001b[0mentry\u001b[0m \u001b[1;32min\u001b[0m \u001b[0mos\u001b[0m\u001b[1;33m.\u001b[0m\u001b[0mlistdir\u001b[0m\u001b[1;33m(\u001b[0m\u001b[0mreadpath\u001b[0m\u001b[1;33m)\u001b[0m\u001b[1;33m:\u001b[0m \u001b[1;31m#Read all photos\u001b[0m\u001b[1;33m\u001b[0m\u001b[1;33m\u001b[0m\u001b[0m\n\u001b[1;32m----> 4\u001b[1;33m     \u001b[1;32mif\u001b[0m \u001b[0mos\u001b[0m\u001b[1;33m.\u001b[0m\u001b[0mpath\u001b[0m\u001b[1;33m.\u001b[0m\u001b[0misfile\u001b[0m\u001b[1;33m(\u001b[0m\u001b[0mos\u001b[0m\u001b[1;33m.\u001b[0m\u001b[0mpath\u001b[0m\u001b[1;33m.\u001b[0m\u001b[0mjoin\u001b[0m\u001b[1;33m(\u001b[0m\u001b[0mreadpath\u001b[0m\u001b[1;33m,\u001b[0m \u001b[0mentry\u001b[0m\u001b[1;33m)\u001b[0m\u001b[1;33m)\u001b[0m\u001b[1;33m:\u001b[0m\u001b[1;33m\u001b[0m\u001b[1;33m\u001b[0m\u001b[0m\n\u001b[0m\u001b[0;32m      5\u001b[0m         \u001b[0mnames\u001b[0m\u001b[1;33m.\u001b[0m\u001b[0mappend\u001b[0m\u001b[1;33m(\u001b[0m\u001b[0mentry\u001b[0m\u001b[1;33m)\u001b[0m\u001b[1;33m\u001b[0m\u001b[1;33m\u001b[0m\u001b[0m\n\u001b[0;32m      6\u001b[0m        \u001b[1;31m# if len(names)>=num_images*3:\u001b[0m\u001b[1;33m\u001b[0m\u001b[1;33m\u001b[0m\u001b[0m\n",
      "\u001b[1;32mc:\\Users\\Thibaut Goldsborough\\anaconda3\\envs\\deep_learning\\lib\\genericpath.py\u001b[0m in \u001b[0;36misfile\u001b[1;34m(path)\u001b[0m\n\u001b[0;32m     28\u001b[0m     \u001b[1;34m\"\"\"Test whether a path is a regular file\"\"\"\u001b[0m\u001b[1;33m\u001b[0m\u001b[1;33m\u001b[0m\u001b[0m\n\u001b[0;32m     29\u001b[0m     \u001b[1;32mtry\u001b[0m\u001b[1;33m:\u001b[0m\u001b[1;33m\u001b[0m\u001b[1;33m\u001b[0m\u001b[0m\n\u001b[1;32m---> 30\u001b[1;33m         \u001b[0mst\u001b[0m \u001b[1;33m=\u001b[0m \u001b[0mos\u001b[0m\u001b[1;33m.\u001b[0m\u001b[0mstat\u001b[0m\u001b[1;33m(\u001b[0m\u001b[0mpath\u001b[0m\u001b[1;33m)\u001b[0m\u001b[1;33m\u001b[0m\u001b[1;33m\u001b[0m\u001b[0m\n\u001b[0m\u001b[0;32m     31\u001b[0m     \u001b[1;32mexcept\u001b[0m \u001b[1;33m(\u001b[0m\u001b[0mOSError\u001b[0m\u001b[1;33m,\u001b[0m \u001b[0mValueError\u001b[0m\u001b[1;33m)\u001b[0m\u001b[1;33m:\u001b[0m\u001b[1;33m\u001b[0m\u001b[1;33m\u001b[0m\u001b[0m\n\u001b[0;32m     32\u001b[0m         \u001b[1;32mreturn\u001b[0m \u001b[1;32mFalse\u001b[0m\u001b[1;33m\u001b[0m\u001b[1;33m\u001b[0m\u001b[0m\n",
      "\u001b[1;31mKeyboardInterrupt\u001b[0m: "
     ]
    }
   ],
   "source": [
    "#Read in images\n",
    "names=[]\n",
    "for entry in os.listdir(readpath): #Read all photos\n",
    "    if os.path.isfile(os.path.join(readpath, entry)):\n",
    "        names.append(entry)\n",
    "       # if len(names)>=num_images*3:\n",
    "        #    break\n",
    "\n",
    "channel_names=[channel_name[:-8] for channel_name in np.unique([name.split(\"_\")[file_prefix.count(\"_\")+1] for name in names])] \n",
    "\n",
    "print(\"Found\",len(channel_names),\"channels\")\n",
    "print(channel_names)\n",
    "\n",
    "data_dict={}\n",
    "for name in names:\n",
    "    cell_num=name.split(\"_\")[file_prefix.count(\"_\")]\n",
    "    if cell_num not in data_dict.keys():\n",
    "        data_dict[cell_num]=[cv.imread(readpath+file_prefix+cell_num+'_'+channel_name+'.ome.tif',0  | cv.IMREAD_ANYDEPTH) for channel_name in channel_names]\n",
    "\n",
    "#13s"
   ]
  },
  {
   "cell_type": "code",
   "execution_count": 32,
   "id": "2489f6d0",
   "metadata": {},
   "outputs": [],
   "source": [
    "BUGS=[]\n",
    "for image in data_dict:\n",
    "    for i in data_dict[image]:\n",
    "      #  print(i)\n",
    "        try: \n",
    "            if i==None:\n",
    "                BUGS.append(image)\n",
    "        except:\n",
    "            pass"
   ]
  },
  {
   "cell_type": "code",
   "execution_count": 33,
   "id": "45dc76e6",
   "metadata": {},
   "outputs": [
    {
     "data": {
      "text/plain": [
       "[]"
      ]
     },
     "execution_count": 33,
     "metadata": {},
     "output_type": "execute_result"
    }
   ],
   "source": [
    "[data_dict.pop(BUG) for BUG in BUGS]"
   ]
  },
  {
   "cell_type": "code",
   "execution_count": 34,
   "id": "cdf51779",
   "metadata": {},
   "outputs": [
    {
     "name": "stdout",
     "output_type": "stream",
     "text": [
      "Maximum and minimums of every raw channel\n",
      "[[3272, 77], [2686, 0], [1847, 0], [2334, 0], [4090, 16], [4075, 0], [3804, 91]]\n"
     ]
    }
   ],
   "source": [
    "#Rescale OME images to tiff\n",
    "max_mins=[[0,1e6] for _ in channel_names]\n",
    "for image_i in data_dict:\n",
    "    image=data_dict[image_i]\n",
    "    for i,_ in enumerate(max_mins):\n",
    "        if max_mins[i][0]<np.max(image[i]):\n",
    "            max_mins[i][0]=np.max(image[i])\n",
    "        if max_mins[i][1]>np.min(image[i]):\n",
    "            max_mins[i][1]=np.min(image[i])\n",
    "print(\"Maximum and minimums of every raw channel\")\n",
    "print(max_mins)"
   ]
  },
  {
   "cell_type": "code",
   "execution_count": null,
   "id": "d45ecf4f",
   "metadata": {},
   "outputs": [],
   "source": [
    "#del data_dict[image_i] Use in case of nonetype error"
   ]
  },
  {
   "cell_type": "code",
   "execution_count": 35,
   "id": "06330c22",
   "metadata": {},
   "outputs": [
    {
     "name": "stdout",
     "output_type": "stream",
     "text": [
      "Order of the channels:\n",
      "['Ch1', 'Ch11', 'Ch2', 'Ch3', 'Ch6', 'Ch7', 'Ch9', 'Ch1_mask', 'Ch11_mask', 'Ch2_mask', 'Ch3_mask', 'Ch6_mask', 'Ch7_mask', 'Ch9_mask']\n"
     ]
    }
   ],
   "source": [
    "def scale(img,max_min):\n",
    "    return ((img-max_min[1])/(max_min[0]-max_min[1])*255)#.astype(np.uint8)\n",
    "\n",
    "image_dict={} \n",
    "maskpath=basepath+\"\\\\ExportedMasks\"\n",
    "for image_i in data_dict:\n",
    "    images=data_dict[image_i]  \n",
    "\n",
    "    processed_images=[]\n",
    "    for i,image in enumerate(images):\n",
    "        processed_images.append(scale(image,max_mins[i]))  #Rescale the images\n",
    "\n",
    "    for channel in channel_names:\n",
    "        processed_images.append(cv.imread(maskpath+file_prefix+image_i+'_'+channel+'.dmask.pgm',0 ))  # mask for channel\n",
    "\n",
    "    image_dict[image_i]=processed_images\n",
    "\n",
    "print(\"Order of the channels:\")\n",
    "channel_order=channel_names+[channel+'_mask' for channel in channel_names]\n",
    "print(channel_order)\n",
    "\n",
    "\n",
    "#This took 3 mins for 10,000 images and 7 channels"
   ]
  },
  {
   "cell_type": "code",
   "execution_count": 36,
   "id": "4d0e5fca",
   "metadata": {},
   "outputs": [],
   "source": [
    "#Create dataframe of image shape information\n",
    "shape_dict = {'image':[], 'x':[], 'y':[], 'ratio':[]}\n",
    "shape_df = pd.DataFrame(shape_dict)\n",
    "for image_i in image_dict:\n",
    "    image = image_dict[image_i]\n",
    "    x, y = image[0].shape\n",
    "    ratio = x/y\n",
    "    shape_df = shape_df.append({'image':image_i, 'x':x, 'y':y, 'ratio':ratio}, ignore_index=True)"
   ]
  },
  {
   "cell_type": "code",
   "execution_count": 37,
   "id": "54e43eb7",
   "metadata": {},
   "outputs": [
    {
     "name": "stdout",
     "output_type": "stream",
     "text": [
      "Average width of image:  64.0  Min:  44.0  Max:  169.0\n",
      "Average height of image:  55.0  Min:  24.0  Max:  115.0\n"
     ]
    },
    {
     "data": {
      "image/png": "[encoded data removed]",
      "text/plain": [
       "<Figure size 720x360 with 2 Axes>"
      ]
     },
     "metadata": {
      "needs_background": "light"
     },
     "output_type": "display_data"
    }
   ],
   "source": [
    "#Investigate sizes of images\n",
    "print('Average width of image: ', np.round(shape_df.x.mean(), 0), ' Min: ', shape_df.x.min(), ' Max: ', shape_df.x.max())\n",
    "print('Average height of image: ', np.round(shape_df.y.mean(), 0), ' Min: ', shape_df.y.min(), ' Max: ', shape_df.y.max())\n",
    "fig, axs = plt.subplots(2, sharex=True, figsize=(10, 5))\n",
    "fig.suptitle('Raw image shapes')\n",
    "numbins = 30\n",
    "axs[0].hist(shape_df.x, bins=numbins);\n",
    "axs[1].hist(shape_df.y, bins=numbins);\n",
    "plt.savefig(basepath+\"\\\\dimension_hist.png\")"
   ]
  },
  {
   "cell_type": "code",
   "execution_count": 38,
   "id": "a236bb39",
   "metadata": {},
   "outputs": [],
   "source": [
    "df=pd.DataFrame()\n",
    "df['Cell_ID']=image_dict.keys()"
   ]
  },
  {
   "cell_type": "code",
   "execution_count": 39,
   "id": "fc0608b1",
   "metadata": {},
   "outputs": [
    {
     "data": {
      "image/png": "[encoded data removed]",
      "text/plain": [
       "<Figure size 432x288 with 1 Axes>"
      ]
     },
     "metadata": {
      "needs_background": "light"
     },
     "output_type": "display_data"
    }
   ],
   "source": [
    "def Touches_Boundary(data_dict,channel_order,cellmask_channel,threshold=2):\n",
    "    i=channel_order.index(cellmask_channel)\n",
    "    touches=[]\n",
    "    touch_val=[]\n",
    "    for image_i in data_dict:\n",
    "        image=data_dict[image_i][i].copy()\n",
    "        image[1:-1,1:-1]=0  \n",
    "        edge_pos=np.count_nonzero(image) \n",
    "        touch_val.append(edge_pos)\n",
    "        if touch_val[-1]>threshold:\n",
    "            touches.append(1)\n",
    "        else:\n",
    "            touches.append(0)\n",
    "\n",
    "    plt.hist(touch_val,bins=100);\n",
    "    plt.axvline(x=threshold,color=\"red\")\n",
    "    plt.show()\n",
    "\n",
    "    return touches\n",
    "\n",
    "\n",
    "df[\"Touches_boundary\"]=Touches_Boundary(image_dict,channel_order,cellmask_channel,threshold=2)\n"
   ]
  },
  {
   "cell_type": "code",
   "execution_count": 40,
   "id": "e026a26c",
   "metadata": {},
   "outputs": [],
   "source": [
    "#This sets all the backgrounds to 0\n",
    "\n",
    "for channel in channel_names:\n",
    "    channel_index=channel_order.index(channel)\n",
    "    cellmask_index=channel_order.index(channel+'_mask')\n",
    "\n",
    "    for image in image_dict:\n",
    "        mean=np.mean(image_dict[image][channel_index][image_dict[image][cellmask_index]==0])\n",
    "        image_dict[image][channel_index]-=(mean)\n",
    "\n",
    "final_images=image_dict.copy()"
   ]
  },
  {
   "cell_type": "code",
   "execution_count": 41,
   "id": "48e6023b",
   "metadata": {},
   "outputs": [],
   "source": [
    "#Pad images to squares\n",
    "maxi=shape_df.x.max()\n",
    "mini=shape_df.x.min()\n",
    "\n",
    "def g(x):\n",
    "    return 1/(np.log(x))**10\n",
    "\n",
    "def f(x):\n",
    "    return (g(x)-g(maxi))*(image_dim-mini)/(g(mini)-g(maxi))\n",
    "\n",
    "def r(x):\n",
    "    return int(round(x,0))"
   ]
  },
  {
   "cell_type": "code",
   "execution_count": 42,
   "id": "5278e58c",
   "metadata": {},
   "outputs": [
    {
     "data": {
      "image/png": "[encoded data removed]",
      "text/plain": [
       "<Figure size 432x288 with 1 Axes>"
      ]
     },
     "metadata": {
      "needs_background": "light"
     },
     "output_type": "display_data"
    }
   ],
   "source": [
    "X=np.linspace(mini,maxi,num=1000)\n",
    "plt.plot(X,f(X))\n",
    "#plt.plot(X,X+f(X),color=\"red\")\n",
    "plt.xlabel(\"Longest dimension of the image (pixels)\")\n",
    "plt.ylabel(\"Padding Width (pixels)\");\n",
    "plt.savefig(basepath+\"\\\\dimension_padding.png\")"
   ]
  },
  {
   "cell_type": "code",
   "execution_count": 43,
   "id": "86046107",
   "metadata": {},
   "outputs": [],
   "source": [
    "for image_i in final_images:\n",
    "    images = final_images[image_i]\n",
    "    x = np.shape(final_images[image_i][0])[0]\n",
    "    y = np.shape(final_images[image_i][0])[1]\n",
    "\n",
    "    if y>x:\n",
    "        height=f(y)\n",
    "        width=(y+height-x)\n",
    "    else:\n",
    "        width=f(x)\n",
    "        height=(x+width-y)\n",
    "\n",
    "    for i,image in enumerate(images):\n",
    "        padded_img=cv.copyMakeBorder(image, r(width/2), r(width/2), r(height/2), r(height/2), cv.BORDER_CONSTANT)\n",
    "        resized_img=cv.resize(padded_img,(image_dim,image_dim))\n",
    "        final_images[image_i][i]=resized_img\n",
    "\n",
    "#36 secs for 10,000 images"
   ]
  },
  {
   "cell_type": "code",
   "execution_count": 44,
   "id": "1a21aa71",
   "metadata": {},
   "outputs": [
    {
     "data": {
      "image/png": "[encoded data removed]",
      "text/plain": [
       "<Figure size 432x288 with 1 Axes>"
      ]
     },
     "metadata": {
      "needs_background": "light"
     },
     "output_type": "display_data"
    }
   ],
   "source": [
    "def DNA_POS(data_dict,channel_order,nuclear_channel,threshold=0.8):\n",
    "    i=channel_order.index(nuclear_channel)\n",
    "    dna_pos=[]\n",
    "    mean_nuc=[]\n",
    "    for image_i in data_dict:\n",
    "        image=data_dict[image_i][i]\n",
    "        mean_nuc.append(np.mean(image))\n",
    "        if mean_nuc[-1]>=threshold:\n",
    "            dna_pos.append(1)\n",
    "        else:\n",
    "            dna_pos.append(0)\n",
    "\n",
    "    plt.hist(mean_nuc,bins=100);\n",
    "    plt.axvline(x=threshold,color=\"red\")\n",
    "    plt.show()\n",
    "            \n",
    "    return dna_pos\n",
    "\n",
    "df[\"DNA_pos\"]=DNA_POS(final_images,channel_order,nuclear_channel,threshold=0.8)\n"
   ]
  },
  {
   "cell_type": "code",
   "execution_count": 45,
   "id": "82afe2e6",
   "metadata": {},
   "outputs": [
    {
     "data": {
      "text/plain": [
       "<matplotlib.colorbar.Colorbar at 0x2b6d51dc0a0>"
      ]
     },
     "execution_count": 45,
     "metadata": {},
     "output_type": "execute_result"
    },
    {
     "data": {
      "image/png": "[encoded data removed]",
      "text/plain": [
       "<Figure size 432x288 with 2 Axes>"
      ]
     },
     "metadata": {
      "needs_background": "light"
     },
     "output_type": "display_data"
    }
   ],
   "source": [
    "plt.imshow(image_dict['100'][channel_order.index(cellmask_channel)])\n",
    "plt.colorbar()"
   ]
  },
  {
   "cell_type": "code",
   "execution_count": 47,
   "id": "e9d6b855",
   "metadata": {},
   "outputs": [
    {
     "name": "stdout",
     "output_type": "stream",
     "text": [
      "Saving Ch1...\n",
      "Saving Ch11...\n",
      "Saving Ch2...\n",
      "Saving Ch3...\n",
      "Saving Ch6...\n",
      "Saving Ch7...\n",
      "Saving Ch9...\n",
      "Saving Ch1_mask...\n",
      "Saving Ch11_mask...\n"
     ]
    }
   ],
   "source": [
    "posx,posy=[],[]\n",
    "\n",
    "for coi,coi_str in enumerate(channel_order):  #coi is channel of interest\n",
    "    print(\"Saving \"+coi_str+\"...\")\n",
    "    display_ims=[]\n",
    "    names=[]\n",
    "    for image_i in final_images:\n",
    "        images = final_images[image_i]\n",
    "        display_ims.append(images[coi])\n",
    "        names.append(image_i)\n",
    "\n",
    "    n=100  #x axis of final image or array \n",
    "\n",
    "    posx,posy=[],[]\n",
    "    l=num_images//n\n",
    "    for i in range(l):\n",
    "        for j in range(n):\n",
    "            posx.append(i)\n",
    "            posy.append(j)\n",
    "            if j==0:\n",
    "                col_array=display_ims[i*n]\n",
    "            else:\n",
    "                col_array=np.hstack((col_array,display_ims[i*n+j]))\n",
    "\n",
    "        if i==0:\n",
    "            row_array=col_array\n",
    "        else:\n",
    "            row_array=np.vstack((row_array,col_array))\n",
    "\n",
    "    myfig=plt.figure(dpi=2000)     \n",
    "    plt.imshow(row_array-np.min(row_array),vmin=0,vmax=70,cmap=\"Greys\")\n",
    "    plt.axis('off')\n",
    "    plt.savefig(outpath+\"\\\\\"+coi_str+\".png\",bbox_inches=\"tight\")\n",
    "    plt.close()\n",
    "\n",
    "    np.save(outpath+\"\\\\\"+coi_str,row_array)\n",
    "\n",
    "np.save(outpath+\"\\\\image_ID\",names)\n",
    "#This took 5min 16s for 10,000 images and 7 channels (+7 masks)\n",
    "\n",
    "df[\"POSX\"]=posx\n",
    "df[\"POSY\"]=posy\n",
    "\n",
    "\n",
    "df.to_csv(outpath+\"\\\\cell_info.csv\")\n",
    "    "
   ]
  },
  {
   "cell_type": "code",
   "execution_count": null,
   "id": "1365ce2b",
   "metadata": {},
   "outputs": [],
   "source": [
    "# #Save final preprocessed images\n",
    "# for image_i in final_images:\n",
    "#     savepath = basepath + \"\\\\Processed_black_background2\\\\\"+image_i\n",
    "#     cv.imwrite(savepath+'_Ch1.png', final_images[image_i][0])\n",
    "#     cv.imwrite(savepath+'_Ch6.png', final_images[image_i][1])\n",
    "#     cv.imwrite(savepath+'_Ch7.png', final_images[image_i][2])\n",
    "#     cv.imwrite(savepath+'_CNM.png', final_images[image_i][3])\n",
    "#     cv.imwrite(savepath+'_CCM.png', final_images[image_i][4])\n",
    "#     cv.imwrite(savepath+'_SCM.png', final_images[image_i][5])\n"
   ]
  },
  {
   "cell_type": "code",
   "execution_count": null,
   "id": "c7399e0f",
   "metadata": {},
   "outputs": [],
   "source": [
    "df[\"POSX\"]=posx[:10000]\n",
    "df[\"POSY\"]=posy[:10000]\n",
    "\n",
    "\n",
    "df.to_csv(outpath+\"\\\\cell_info.csv\")\n",
    "    "
   ]
  }
 ],
 "metadata": {
  "interpreter": {
   "hash": "96e92283253362575e1b2577a58171a1def071c2d4840c376515c402fb1735d8"
  },
  "kernelspec": {
   "display_name": "Python 3.9.7 ('deep_learning')",
   "language": "python",
   "name": "python3"
  },
  "language_info": {
   "codemirror_mode": {
    "name": "ipython",
    "version": 3
   },
   "file_extension": ".py",
   "mimetype": "text/x-python",
   "name": "python",
   "nbconvert_exporter": "python",
   "pygments_lexer": "ipython3",
   "version": "3.9.7"
  }
 },
 "nbformat": 4,
 "nbformat_minor": 5
}
