{
 "cells": [
  {
   "cell_type": "code",
   "execution_count": null,
   "metadata": {},
   "outputs": [],
   "source": [
    "#Import required packages\n",
    "import numpy as np\n",
    "import pandas as pd\n",
    "import numpy as np\n",
    "import pandas as pd\n",
    "import matplotlib.pyplot as plt\n",
    "from Helper_functions import density_scatter\n",
    "from matplotlib import cm\n",
    "from matplotlib.colors import Normalize \n",
    "from scipy.interpolate import interpn\n",
    "from scipy.stats import spearmanr\n",
    "\n",
    "plt.rc('text', usetex = False)\n",
    "plt.rc('font', family = 'serif')\n",
    "plt.rcParams['axes.labelsize'] = 20\n",
    "plt.rcParams['xtick.labelsize']=20\n",
    "plt.rcParams['ytick.labelsize']=20\n",
    "plt.rcParams['axes.titlesize'] =20\n",
    "plt.rc('font', size=15)  \n",
    "\n",
    "#Insert filepath for local files  FOR THIBAUT\n",
    "DATASETS=[\"BoneMarrow_sample1\",\"Retina_1_2\",\"Colon\",\"Choroid\"]\n",
    "DATASET=\"Retina_1_2\"\n",
    "\n",
    "basepath = r\"C:\\Users\\Thibaut Goldsborough\\Documents\\Seth_BoneMarrow\\Data\\\\\" +DATASET\n",
    "outpath = basepath + \"\\\\Results\"\n",
    "\n",
    "channel_dict={'Ch02': 'FITC (Pericytes)','Ch03': 'PE-TdTomato (Stromal Cells)','Ch11':'APC-CD45 (Leukocytes)', 'Ch07': \"Nuclear stain (DNA)\"}\n",
    "channel_dict={'Ch11': 'AF647 PDC (Photoreceptors)','Ch10': 'CA10-BV605', 'Ch07': \"SYTO40 (DNA)\"}\n"
   ]
  },
  {
   "cell_type": "code",
   "execution_count": null,
   "metadata": {},
   "outputs": [],
   "source": [
    "def plot_scatter(df,channels,heatmap=False,cmap='magma_r',save=False,**kwargs):\n",
    "    #fig, axs = plt.subplots(int(np.ceil(len(channels)/2)),2,figsize=(int(np.ceil(len(channels)/2))*10,2*10))\n",
    "    fig, axs = plt.subplots(int(np.ceil(len(channels)/2)),2,figsize=(17.5,17.5))\n",
    "\n",
    "    for i,channel in enumerate(channels):\n",
    "        ax_index=(i//2,i%2)\n",
    "        if len(channels)<=2:\n",
    "            ax_index=(i)\n",
    "        axs[ax_index].set_xlim(np.min(df[\"Scaled_\"+channel]),np.max(df[\"Scaled_\"+channel]))\n",
    "        axs[ax_index].set_ylim(np.min(df[\"Scaled_\"+channel]),np.max(df[\"Scaled_\"+channel]))\n",
    "        \n",
    "        axs[ax_index].set_aspect('equal', adjustable='box')\n",
    "        x=df[\"Scaled_\"+channel].to_numpy()\n",
    "        y=df[\"PRED_\"+channel].to_numpy()\n",
    "        #np.random.shuffle(x)\n",
    "        #np.random.shuffle(y)\n",
    "        if not heatmap:\n",
    "            axs[ax_index].scatter(x,y,s=1,alpha=0.5)\n",
    "        else:\n",
    "            x,y,z=density_scatter( x , y, sort = True, bins =[40,40])\n",
    "            axs[ax_index].scatter(x,y,c=z,s=1,cmap=cmap,**kwargs)\n",
    "            norm = Normalize(vmin = np.min(z), vmax = np.max(z))\n",
    "            \n",
    "        ymin, ymax = axs[ax_index].get_ylim()\n",
    "        R=np.corrcoef(x,y)[0,1]\n",
    "        rho, pval = spearmanr(x, y)\n",
    "        xs = np.linspace(0.0, 1.0, 100)\n",
    "        rgb1 = cm.get_cmap(cmap)(xs)[0][:-1]\n",
    "        rgb2 = cm.get_cmap(cmap)(xs)[-1][:-1]\n",
    "        rgb=[rgb1,rgb2][np.argmax([sum(rgb2),sum(rgb1)])]  #These lines are just to get the color of the x=y line and the correlation values match the colormap\n",
    "\n",
    "        axs[ax_index].text(ymin+0.1*abs(ymax-ymin),ymax-0.02*abs(ymax-ymin),horizontalalignment='left',verticalalignment='top',s=\"R-value: \"+str(round(R,3)),color=rgb)\n",
    "        axs[ax_index].text(ymin+0.1*abs(ymax-ymin),ymax-0.07*abs(ymax-ymin),horizontalalignment='left',verticalalignment='top',s=r'$\\rho$: '+str(round(rho,3)),color=rgb)\n",
    "        #axs[i].text(ymin+0.1*abs(ymax-ymin),ymax-0.16*abs(ymax-ymin),horizontalalignment='left',verticalalignment='top',s=\"p-value: \"+str(pval),color='red')\n",
    "        xy=np.linspace(ymin,ymax,100)\n",
    "        axs[ax_index].plot(xy,xy,color=rgb)\n",
    "\n",
    "        axs[ax_index].set_xlabel(\"Actual fluorescence\")\n",
    "        axs[ax_index].set_ylabel(\"Predicted fluorescence\")\n",
    "        axs[ax_index].set_title(channel_dict[channel])\n",
    "\n",
    "   # if heatmap:\n",
    "   #     fig.colorbar(cm.ScalarMappable(norm = norm),shrink=1,label='Density',ax=axs[2],cmap=cmap)\n",
    "    if len(channels)%2!=0:\n",
    "        i+=1\n",
    "        ax_index=(i//2,i%2)\n",
    "        if len(channels)<=2:\n",
    "            ax_index=(i)\n",
    "        axs[ax_index].set_axis_off()\n",
    "\n",
    "    if save:\n",
    "        plt.savefig(outpath+\"\\\\predictions.png\",dpi=500,bbox_inches='tight')\n",
    "    plt.show()\n",
    "    "
   ]
  },
  {
   "cell_type": "code",
   "execution_count": null,
   "metadata": {},
   "outputs": [],
   "source": [
    "df=pd.read_csv(outpath+\"\\\\Resnet0.2762514.csv\")\n",
    "plot_scatter(df,[\"Ch02\"],heatmap=True,cmap='Spectral_r',vmin=0,vmax=2,save=False)"
   ]
  },
  {
   "cell_type": "code",
   "execution_count": null,
   "metadata": {},
   "outputs": [],
   "source": [
    "\n",
    "basepath = r\"C:\\Users\\Thibaut Goldsborough\\Documents\\Seth_BoneMarrow\\Data\\Retina_1_2\"\n",
    "outpath = basepath + \"\\\\Results\"\n",
    "df=pd.read_csv(outpath+\"\\\\Resnet0.11199635.csv\")\n",
    "plot_scatter(df,[\"Ch07\"],heatmap=True,cmap='Spectral_r',vmin=0,vmax=2,save=False)"
   ]
  },
  {
   "cell_type": "code",
   "execution_count": null,
   "metadata": {},
   "outputs": [],
   "source": [
    "\n",
    "basepath = r\"C:\\Users\\Thibaut Goldsborough\\Documents\\Seth_BoneMarrow\\Data\\Colon\"\n",
    "outpath = basepath + \"\\\\Results\"~\n",
    "df=pd.read_csv(outpath+\"\\\\Resnet0.13322417.csv\")\n",
    "plot_scatter(df,[\"Ch07\"],heatmap=True,cmap='Spectral_r',vmin=0,vmax=2,save=False)"
   ]
  },
  {
   "cell_type": "code",
   "execution_count": null,
   "metadata": {},
   "outputs": [],
   "source": [
    "basepath = r\"C:\\Users\\Thibaut Goldsborough\\Documents\\Seth_BoneMarrow\\Data\\Retina_1_2\"\n",
    "outpath = basepath + \"\\\\Results\"\n",
    "df=pd.read_csv(outpath+\"\\\\Resnet0.33705848.csv\")\n",
    "plot_scatter(df,[\"Ch07\",\"Ch10\",\"Ch11\"],heatmap=True,cmap='Spectral_r',vmin=0,vmax=2,save=False)"
   ]
  },
  {
   "cell_type": "code",
   "execution_count": null,
   "metadata": {},
   "outputs": [],
   "source": [
    "df=pd.read_csv(outpath+\"\\\\Resnet0.35477188.csv\")\n",
    "plot_scatter(df,[\"Ch07\",\"Ch10\",\"Ch11\"],heatmap=True,cmap='Spectral_r',vmin=0,vmax=2,save=False)"
   ]
  },
  {
   "cell_type": "code",
   "execution_count": null,
   "metadata": {},
   "outputs": [],
   "source": []
  },
  {
   "cell_type": "code",
   "execution_count": null,
   "metadata": {},
   "outputs": [],
   "source": [
    "df=pd.read_csv(outpath+\"\\\\Resnet0.5226294.csv\")\n",
    "plot_scatter(df,[\"Ch02\",\"Ch03\",\"Ch11\"],heatmap=True,cmap='Spectral_r',vmin=0,vmax=2,save=False)\n"
   ]
  },
  {
   "cell_type": "code",
   "execution_count": null,
   "metadata": {},
   "outputs": [],
   "source": [
    "\n",
    "df=pd.read_csv(outpath+\"\\\\Resnet0.34091082.csv\")\n",
    "plot_scatter(df,[\"Ch02\",\"Ch03\",\"Ch11\"],heatmap=True,cmap='magma_r',vmin=0,vmax=2)"
   ]
  },
  {
   "cell_type": "code",
   "execution_count": null,
   "metadata": {},
   "outputs": [],
   "source": [
    "\n",
    "df=pd.read_csv(outpath+\"\\\\Resnet0.33479807.csv\")\n",
    "plot_scatter(df,[\"Ch02\",\"Ch03\",\"Ch11\",\"Ch07\"],heatmap=True,cmap='Spectral_r',vmin=0,vmax=2,save=False)"
   ]
  },
  {
   "cell_type": "code",
   "execution_count": null,
   "metadata": {},
   "outputs": [],
   "source": [
    "from Helper_functions import load_dict\n",
    "import cv2 as cv\n",
    "from Helper_functions import interactive_session\n",
    "\n",
    "image_dim=64 #Dim of the final images\n",
    "nuclear_channel=\"Ch7\"\n",
    "cellmask_channel=\"Ch1_mask\"\n",
    "outpath2=basepath+\"//Outputs\"\n",
    "df=pd.read_csv(outpath2+\"\\\\cell_info1.csv\")\n",
    "cell_names=df[\"Cell_ID\"].to_numpy()\n",
    "Prediction_Channels=['Ch07']\n",
    "image_dict=load_dict(outpath2,cell_names,image_dim)\n",
    "Channels=['Ch1']  #Channel to be fed to the NN\n",
    "images_with_index = []\n",
    "for image_i in image_dict:\n",
    "    if len(image_dict[image_i].keys())>=len(Channels):\n",
    "        image=cv.merge([image_dict[image_i][i] for i in Channels])\n",
    "        images_with_index.append((int(image_i),image))\n",
    "    else:\n",
    "        print(image_i)\n",
    "images=np.array([image[1] for image in images_with_index])\n",
    "names=np.array([image[0] for image in images_with_index])\n",
    "DNA_pos=df[\"DNA_pos\"].to_numpy()\n",
    "Touches_Boundary=df[\"Touches_boundary\"].to_numpy()\n",
    "labels=df[[\"Intensity_MC_\"+channel for channel in Prediction_Channels]].to_numpy()\n"
   ]
  },
  {
   "cell_type": "code",
   "execution_count": null,
   "metadata": {},
   "outputs": [],
   "source": [
    "plt.imshow(image_dict[863]['Ch1'])"
   ]
  },
  {
   "cell_type": "code",
   "execution_count": null,
   "metadata": {},
   "outputs": [],
   "source": [
    "latent_df=pd.read_csv(outpath+\"\\Resnet0.16602623.csv\")\n",
    "namesdf=latent_df[\"Cell_ID\"].to_numpy()\n",
    "display_images=[image_dict[int(i)]['Ch1'] for i in namesdf]\n",
    "display_images-=np.min(display_images)\n",
    "display_images/=np.max(display_images)\n",
    "display_images*=255\n",
    "display_images*=1.5"
   ]
  },
  {
   "cell_type": "code",
   "execution_count": null,
   "metadata": {},
   "outputs": [],
   "source": [
    "basepath"
   ]
  },
  {
   "cell_type": "code",
   "execution_count": null,
   "metadata": {},
   "outputs": [],
   "source": [
    "latent_df[latent_df[\"Cell_ID\"]==7086]"
   ]
  },
  {
   "cell_type": "code",
   "execution_count": null,
   "metadata": {},
   "outputs": [],
   "source": [
    "plt.imshow(display_images[0])\n",
    "plt.colorbar()"
   ]
  },
  {
   "cell_type": "code",
   "execution_count": null,
   "metadata": {},
   "outputs": [],
   "source": [
    "np.min(display_images)"
   ]
  },
  {
   "cell_type": "code",
   "execution_count": null,
   "metadata": {},
   "outputs": [],
   "source": [
    "def plot_scatter(df,channels,heatmap=False,cmap='magma_r',save=False,interactive=False,**kwargs):\n",
    "    #fig, axs = plt.subplots(int(np.ceil(len(channels)/2)),2,figsize=(int(np.ceil(len(channels)/2))*10,2*10))\n",
    "    fig, axs = plt.subplots(int(np.ceil(len(channels)/2)),2,figsize=(17.5,17.5))\n",
    "\n",
    "    for i,channel in enumerate(channels):\n",
    "        ax_index=(i//2,i%2)\n",
    "        if len(channels)<=2:\n",
    "            ax_index=(i)\n",
    "        axs[ax_index].set_xlim(np.min(df[\"SCALED_Intensity_MC_\"+channel]),np.max(df[\"SCALED_Intensity_MC_\"+channel]))\n",
    "        axs[ax_index].set_ylim(np.min(df[\"SCALED_Intensity_MC_\"+channel]),np.max(df[\"SCALED_Intensity_MC_\"+channel]))\n",
    "        \n",
    "        axs[ax_index].set_aspect('equal', adjustable='box')\n",
    "        x=df[\"SCALED_Intensity_MC_\"+channel].to_numpy()\n",
    "        y=df[\"PRED_Intensity_MC_\"+channel].to_numpy()\n",
    "        #np.random.shuffle(x)\n",
    "        #np.random.shuffle(y)\n",
    "\n",
    "\n",
    "\n",
    "        if not heatmap:\n",
    "            axs[ax_index].scatter(x,y,s=1,alpha=0.5)\n",
    "        else:\n",
    "            x,y,z=density_scatter( x , y, sort = False, bins =[40,40])\n",
    "            axs[ax_index].scatter(x,y,c=z,s=1,cmap=cmap,**kwargs)\n",
    "            norm = Normalize(vmin = np.min(z), vmax = np.max(z))\n",
    "            \n",
    "        if interactive:\n",
    "            u=np.vstack((x,y)).T\n",
    "            interactive_session(u,display_images,z,namesdf)\n",
    "\n",
    "        ymin, ymax = axs[ax_index].get_ylim()\n",
    "        R=np.corrcoef(x,y)[0,1]\n",
    "        rho, pval = spearmanr(x, y)\n",
    "        xs = np.linspace(0.0, 1.0, 100)\n",
    "        rgb1 = cm.get_cmap(cmap)(xs)[0][:-1]\n",
    "        rgb2 = cm.get_cmap(cmap)(xs)[-1][:-1]\n",
    "        rgb=[rgb1,rgb2][np.argmax([sum(rgb2),sum(rgb1)])]  #These lines are just to get the color of the x=y line and the correlation values match the colormap\n",
    "\n",
    "        axs[ax_index].text(ymin+0.1*abs(ymax-ymin),ymax-0.02*abs(ymax-ymin),horizontalalignment='left',verticalalignment='top',s=\"R-value: \"+str(round(R,3)),color=rgb)\n",
    "        axs[ax_index].text(ymin+0.1*abs(ymax-ymin),ymax-0.07*abs(ymax-ymin),horizontalalignment='left',verticalalignment='top',s=r'$\\rho$: '+str(round(rho,3)),color=rgb)\n",
    "        #axs[i].text(ymin+0.1*abs(ymax-ymin),ymax-0.16*abs(ymax-ymin),horizontalalignment='left',verticalalignment='top',s=\"p-value: \"+str(pval),color='red')\n",
    "        xy=np.linspace(ymin,ymax,100)\n",
    "        axs[ax_index].plot(xy,xy,color=rgb)\n",
    "\n",
    "        axs[ax_index].set_xlabel(\"Actual fluorescence\")\n",
    "        axs[ax_index].set_ylabel(\"Predicted fluorescence\")\n",
    "        axs[ax_index].set_title(channel_dict[channel])\n",
    "\n",
    "\n",
    "   # if heatmap:\n",
    "   #     fig.colorbar(cm.ScalarMappable(norm = norm),shrink=1,label='Density',ax=axs[2],cmap=cmap)\n",
    "    if len(channels)%2!=0:\n",
    "        i+=1\n",
    "        ax_index=(i//2,i%2)\n",
    "        if len(channels)<=2:\n",
    "            ax_index=(i)\n",
    "        axs[ax_index].set_axis_off()\n",
    "\n",
    "    if save:\n",
    "        plt.savefig(outpath+\"\\\\predictions.png\",dpi=500,bbox_inches='tight')\n",
    "    plt.show()\n",
    "    "
   ]
  },
  {
   "cell_type": "code",
   "execution_count": null,
   "metadata": {},
   "outputs": [],
   "source": [
    "plot_scatter(latent_df,[\"Ch07\"],heatmap=True,cmap='magma_r',vmin=0,vmax=2,interactive=True)"
   ]
  },
  {
   "cell_type": "code",
   "execution_count": null,
   "metadata": {},
   "outputs": [],
   "source": [
    "#adjusted_contrast=[automatic_brightness_and_contrast(i,clip_hist_percent=0.15)[0] for i in display_images]\n",
    "adjusted_contrast=[255-cv.convertScaleAbs(i, alpha=1.5, beta=-100) for i in display_images]\n",
    "np.save(r\"C:\\Users\\Thibaut Goldsborough\\Documents\\Seth_BoneMarrow\\Scripts\\HEROKU\\heroku_app\\DATA\\Ch1.npy\",adjusted_contrast)"
   ]
  },
  {
   "cell_type": "code",
   "execution_count": null,
   "metadata": {},
   "outputs": [],
   "source": [
    "from Helper_functions import automatic_brightness_and_contrast\n",
    "automatic_brightness_and_contrast(display_images[2],clip_hist_percent=0.15)"
   ]
  },
  {
   "cell_type": "code",
   "execution_count": null,
   "metadata": {},
   "outputs": [],
   "source": [
    "plt.imshow(display_images[8])\n",
    "img=adjusted_contrast[583]\n",
    "im = Image.fromarray(img.astype(np.uint8))\n",
    "im"
   ]
  },
  {
   "cell_type": "code",
   "execution_count": null,
   "metadata": {},
   "outputs": [],
   "source": [
    "plt.imshow(255-cv.convertScaleAbs(display_images[583], alpha=1.7, beta=-70),vmin=0,vmax=255,cmap='gray')"
   ]
  },
  {
   "cell_type": "code",
   "execution_count": null,
   "metadata": {},
   "outputs": [],
   "source": [
    "im.save(r\"C:\\Users\\Thibaut Goldsborough\\Documents\\Seth_BoneMarrow\\HEROKU\\assets\\favicon2.ico\")"
   ]
  },
  {
   "cell_type": "code",
   "execution_count": null,
   "metadata": {},
   "outputs": [],
   "source": []
  },
  {
   "cell_type": "code",
   "execution_count": null,
   "metadata": {},
   "outputs": [],
   "source": [
    "201%100"
   ]
  },
  {
   "cell_type": "code",
   "execution_count": null,
   "metadata": {},
   "outputs": [],
   "source": [
    "#This is for HEROKU\n",
    "DATASETS=[\"BoneMarrow_sample1\",\"Retina_1_2\",\"Colon\",\"Choroid\"]\n",
    "DATASET=\"BoneMarrow_sample1\"\n",
    "\n",
    "basepath = r\"C:\\Users\\Thibaut Goldsborough\\Documents\\Seth_BoneMarrow\\Data\\\\\" +DATASET\n",
    "outpath = basepath + \"\\\\Results\"\n",
    "df_path=\"\\Resnet0.33479807.csv\"\n",
    "\n",
    "#colon: \"\\Resnet0.13322417.csv\"\n",
    "#choroid: \"\\Resnet0.16602623.csv\"\n",
    "#retina: \"\\Resnet0.33705848.csv\"\n",
    "#bm: \"\\Resnet0.33479807.csv\"\n",
    "\n",
    "\n",
    "outpath2=basepath+\"//Outputs\"\n",
    "df=pd.read_csv(outpath2+\"\\\\cell_info.csv\")\n",
    "cell_names=df[\"Cell_ID\"].to_numpy()\n",
    "Prediction_Channels=['Ch07']\n",
    "image_dict=load_dict(outpath2,cell_names,64)\n",
    "\n",
    "latent_df=pd.read_csv(outpath+df_path)\n",
    "namesdf=latent_df[\"Cell_ID\"].to_numpy()\n",
    "display_images=[image_dict[int(i)]['Ch1'] for i in namesdf]\n",
    "display_images-=np.min(display_images)\n",
    "display_images/=np.max(display_images)\n",
    "display_images*=255\n",
    "\n",
    "\n",
    "from Helper_functions import automatic_brightness_and_contrast\n",
    "from Helper_functions import load_dict\n",
    "import cv2 as cv\n",
    "\n",
    "alphas=[]\n",
    "betas=[]\n",
    "for i in display_images:\n",
    "    img,a,b=automatic_brightness_and_contrast(i,clip_hist_percent=0.15)\n",
    "    alphas.append(a)\n",
    "    betas.append(b)\n",
    "\n",
    "print(np.median(alphas),np.median(betas))\n",
    "\n",
    "adjusted_contrast=[255-cv.convertScaleAbs(i, alpha=np.median(alphas), beta=np.median(betas)) for i in display_images]\n",
    "np.save(r\"C:\\Users\\Thibaut Goldsborough\\Documents\\Seth_BoneMarrow\\HEROKU\\DATA\\\\\"+DATASET+\"_Ch1.npy\",adjusted_contrast)\n",
    "latent_df.to_csv(r\"C:\\Users\\Thibaut Goldsborough\\Documents\\Seth_BoneMarrow\\HEROKU\\DATA\\\\\"+DATASET+\"_predictions.csv\",index=False)"
   ]
  },
  {
   "cell_type": "code",
   "execution_count": null,
   "metadata": {},
   "outputs": [],
   "source": [
    "plt.imshow(adjusted_contrast[110],vmin=0,vmax=255)"
   ]
  },
  {
   "cell_type": "code",
   "execution_count": null,
   "metadata": {},
   "outputs": [],
   "source": [
    "#This is for HEROKU\n",
    "DATASETS=np.array([\"BoneMarrow_sample1\",\"Retina_1_2\",\"Colon\",\"Choroid\"])\n",
    "\n",
    "\n",
    "\n",
    "basepath = r\"C:\\Users\\Thibaut Goldsborough\\Documents\\Seth_BoneMarrow\\Results\"\n",
    "outpath = basepath + \"\\\\Results\"\n",
    "df_path=\"\\Barlow_latents104.csv\"\n",
    "\n",
    "\n",
    "df=pd.read_csv(basepath+df_path)\n",
    "cell_names=df[\"Cell_ID\"].to_numpy()\n",
    "Labels=df[\"Dataset\"].to_numpy()\n",
    "display_images=np.zeros((len(cell_names),64,64))\n",
    "latents=df.drop([\"Cell_ID\",\"Dataset\"],axis=1).to_numpy()"
   ]
  },
  {
   "cell_type": "code",
   "execution_count": null,
   "metadata": {},
   "outputs": [],
   "source": [
    "import seaborn as sns"
   ]
  },
  {
   "cell_type": "code",
   "execution_count": null,
   "metadata": {},
   "outputs": [],
   "source": [
    "\n",
    "fig=plt.figure(figsize=(30,20))\n",
    "\n",
    "sns.heatmap(latents[latents[:, 1].argsort()])"
   ]
  },
  {
   "cell_type": "code",
   "execution_count": null,
   "metadata": {},
   "outputs": [],
   "source": [
    "import scipy\n",
    "import pylab\n",
    "import scipy.cluster.hierarchy as sch\n",
    "\n",
    "# Generate features and distance matrix.\n",
    "x = scipy.rand(40)\n",
    "D = scipy.zeros([40,40])\n",
    "for i in range(40):\n",
    "    for j in range(40):\n",
    "        D[i,j] = abs(x[i] - x[j])\n",
    "\n",
    "# Compute and plot dendrogram.\n",
    "fig = pylab.figure()\n",
    "axdendro = fig.add_axes([0.09,0.1,0.2,0.8])\n",
    "Y = sch.linkage(D, method='centroid')\n",
    "Z = sch.dendrogram(Y, orientation='right')\n",
    "axdendro.set_xticks([])\n",
    "axdendro.set_yticks([])\n",
    "\n",
    "# Plot distance matrix.\n",
    "axmatrix = fig.add_axes([0.3,0.1,0.6,0.8])\n",
    "index = Z['leaves']\n",
    "D = D[index,:]\n",
    "D = D[:,index]\n",
    "im = axmatrix.matshow(D, aspect='auto', origin='lower')\n",
    "axmatrix.set_xticks([])\n",
    "axmatrix.set_yticks([])\n",
    "\n",
    "# Plot colorbar.\n",
    "axcolor = fig.add_axes([0.91,0.1,0.02,0.8])\n",
    "pylab.colorbar(im, cax=axcolor)\n",
    "\n",
    "# Display and save figure.\n",
    "fig.show()\n",
    "#fig.savefig('dendrogram.png')"
   ]
  },
  {
   "cell_type": "code",
   "execution_count": null,
   "metadata": {},
   "outputs": [],
   "source": [
    "from scipy.spatial.distance import pdist, squareform\n",
    "from sklearn import datasets\n",
    "import matplotlib.pyplot as plt\n",
    "\n",
    "data=latents[:2000]\n",
    "\n",
    "dist_mat = squareform(pdist(data))\n",
    "\n",
    "N = len(data)\n",
    "plt.pcolormesh(dist_mat)\n",
    "plt.colorbar()\n",
    "plt.xlim([0,N])\n",
    "plt.ylim([0,N])\n",
    "plt.show()"
   ]
  },
  {
   "cell_type": "code",
   "execution_count": null,
   "metadata": {},
   "outputs": [],
   "source": [
    "from fastcluster import linkage\n",
    "def seriation(Z,N,cur_index):\n",
    "    '''\n",
    "        input:\n",
    "            - Z is a hierarchical tree (dendrogram)\n",
    "            - N is the number of points given to the clustering process\n",
    "            - cur_index is the position in the tree for the recursive traversal\n",
    "        output:\n",
    "            - order implied by the hierarchical tree Z\n",
    "            \n",
    "        seriation computes the order implied by a hierarchical tree (dendrogram)\n",
    "    '''\n",
    "    if cur_index < N:\n",
    "        return [cur_index]\n",
    "    else:\n",
    "        left = int(Z[cur_index-N,0])\n",
    "        right = int(Z[cur_index-N,1])\n",
    "        return (seriation(Z,N,left) + seriation(Z,N,right))\n",
    "    \n",
    "def compute_serial_matrix(dist_mat,method=\"ward\"):\n",
    "    '''\n",
    "        input:\n",
    "            - dist_mat is a distance matrix\n",
    "            - method = [\"ward\",\"single\",\"average\",\"complete\"]\n",
    "        output:\n",
    "            - seriated_dist is the input dist_mat,\n",
    "              but with re-ordered rows and columns\n",
    "              according to the seriation, i.e. the\n",
    "              order implied by the hierarchical tree\n",
    "            - res_order is the order implied by\n",
    "              the hierarhical tree\n",
    "            - res_linkage is the hierarhical tree (dendrogram)\n",
    "        \n",
    "        compute_serial_matrix transforms a distance matrix into \n",
    "        a sorted distance matrix according to the order implied \n",
    "        by the hierarchical tree (dendrogram)\n",
    "    '''\n",
    "    N = len(dist_mat)\n",
    "    flat_dist_mat = squareform(dist_mat)\n",
    "    res_linkage = linkage(flat_dist_mat, method=method,preserve_input=True)\n",
    "    res_order = seriation(res_linkage, N, N + N-2)\n",
    "    seriated_dist = np.zeros((N,N))\n",
    "    a,b = np.triu_indices(N,k=1)\n",
    "    seriated_dist[a,b] = dist_mat[ [res_order[i] for i in a], [res_order[j] for j in b]]\n",
    "    seriated_dist[b,a] = seriated_dist[a,b]\n",
    "    \n",
    "    return seriated_dist, res_order, res_linkage\n",
    "\n",
    "\n",
    "methods = [\"ward\",\"single\",\"average\",\"complete\"]\n",
    "for method in methods:\n",
    "    print(\"Method:\\t\",method)\n",
    "    \n",
    "    ordered_dist_mat, res_order, res_linkage = compute_serial_matrix(dist_mat,method)\n",
    "    \n",
    "    plt.pcolormesh(ordered_dist_mat)\n",
    "    plt.xlim([0,N])\n",
    "    plt.ylim([0,N])\n",
    "    plt.show()"
   ]
  },
  {
   "cell_type": "code",
   "execution_count": null,
   "metadata": {},
   "outputs": [],
   "source": [
    "\n",
    "fig=plt.figure(figsize=(30,20))\n",
    "\n",
    "sns.heatmap(ordered_dist_mat)"
   ]
  },
  {
   "cell_type": "code",
   "execution_count": null,
   "metadata": {},
   "outputs": [],
   "source": [
    "def plot_scatter_simple(x,y,heatmap=False,cmap='magma_r',bins=40,intensity=5,save=False,title=\"\",**kwargs):\n",
    "    fig,ax = plt.subplots(1,1,figsize=(10,10))\n",
    "    ax.set_xlim(np.min(x)-0.5,np.max(x))\n",
    "    ax.set_ylim(np.min(x)-0.5,np.max(x))\n",
    "    ax.set_aspect('equal', adjustable='box')\n",
    "    #np.random.shuffle(x)\n",
    "    #np.random.shuffle(y)\n",
    "    if not heatmap:\n",
    "        ax.scatter(x,y,s=1,alpha=0.5)\n",
    "    else:\n",
    "        x,y,z=density_scatter( x , y, sort = True, bins =[bins,bins])\n",
    "        print(np.min(z),np.max(z))\n",
    "        ax.scatter(x,y,c=z/np.max(z)*intensity,s=2,cmap=cmap,**kwargs)\n",
    "        norm = Normalize(vmin = np.min(z), vmax = np.max(z))\n",
    "    ymin, ymax = ax.get_ylim()\n",
    "    R=np.corrcoef(x,y)[0,1]\n",
    "    rho, pval = spearmanr(x, y)\n",
    "    xs = np.linspace(0.0, 1.0, 100)\n",
    "    rgb1 = cm.get_cmap(cmap)(xs)[0][:-1]\n",
    "    rgb2 = cm.get_cmap(cmap)(xs)[-1][:-1]\n",
    "    rgb=[rgb1,rgb2][np.argmax([sum(rgb2),sum(rgb1)])]  #These lines are just to get the color of the x=y line and the correlation values match the colormap\n",
    "\n",
    "    ax.text(ymin+0.1*abs(ymax-ymin),ymax-0.02*abs(ymax-ymin),horizontalalignment='left',verticalalignment='top',s=\"R-value: \"+str(round(R,3)),color=rgb)\n",
    "    ax.text(ymin+0.1*abs(ymax-ymin),ymax-0.07*abs(ymax-ymin),horizontalalignment='left',verticalalignment='top',s=r'$\\rho$: '+str(round(rho,3)),color=rgb)\n",
    "    #axs[i].text(ymin+0.1*abs(ymax-ymin),ymax-0.16*abs(ymax-ymin),horizontalalignment='left',verticalalignment='top',s=\"p-value: \"+str(pval),color='red')\n",
    "    xy=np.linspace(ymin,ymax,100)\n",
    "    ax.plot(xy,xy,color=rgb)\n",
    "    ax.set_xlabel(\"Actual fluorescence\")\n",
    "    ax.set_ylabel(\"Predicted fluorescence\")\n",
    "    ax.set_title(title)\n",
    "    if save:\n",
    "        plt.savefig(r\"C:\\Users\\Thibaut Goldsborough\\Documents\\Seth_BoneMarrow\"+\"\\\\Report\\\\preds\"+title+\".png\",dpi=500,bbox_inches='tight')\n",
    "    plt.show()\n",
    "\n",
    "    "
   ]
  },
  {
   "cell_type": "code",
   "execution_count": null,
   "metadata": {},
   "outputs": [],
   "source": [
    "\n",
    "loss=str(0.82300067)\n",
    "basepath = r\"C:\\Users\\Thibaut Goldsborough\\Documents\\Seth_BoneMarrow\\Data\\Retina_1_2\"\n",
    "outpath = basepath + \"\\\\Results\"+\"\\\\Res\"+loss\n",
    "df=pd.read_csv(outpath+\"\\\\Resnet\"+loss+\".csv\")\n",
    "x=df[\"Scaled_Ch11\"]\n",
    "y=df[\"PRED_Ch11\"]\n",
    "plot_scatter_simple(x,y,heatmap=True,cmap='Spectral_r',vmin=0,vmax=2,bins=20,intensity=2,save=True,title=\"Ch11-Photoreceptors\")\n",
    "\n",
    "plt.show()\n",
    "loss=str(0.7304248)\n",
    "basepath = r\"C:\\Users\\Thibaut Goldsborough\\Documents\\Seth_BoneMarrow\\Data\\Retina_1_2\"\n",
    "outpath = basepath + \"\\\\Results\"+\"\\\\Res\"+loss\n",
    "df=pd.read_csv(outpath+\"\\\\Resnet\"+loss+\".csv\")\n",
    "x=df[\"Scaled_Ch11_Comp\"]\n",
    "y=df[\"PRED_Ch11_Comp\"]\n",
    "plot_scatter_simple(x,y,heatmap=True,cmap='Spectral_r',vmin=0,vmax=2,bins=20,intensity=2,save=True,title=\"Ch11-Photoreceptors (Compensated)\")"
   ]
  },
  {
   "cell_type": "code",
   "execution_count": null,
   "metadata": {},
   "outputs": [],
   "source": [
    "plt.hist(y,bins=200);"
   ]
  },
  {
   "cell_type": "code",
   "execution_count": null,
   "metadata": {},
   "outputs": [],
   "source": [
    "\n",
    "loss=str(0.11199635)\n",
    "basepath = r\"C:\\Users\\Thibaut Goldsborough\\Documents\\Seth_BoneMarrow\\Data\\Retina_1_2\"\n",
    "outpath = basepath + \"\\\\Results\"+\"\\\\Res\"+loss\n",
    "df=pd.read_csv(outpath+\"\\\\Resnet\"+loss+\".csv\")\n",
    "x=df[\"Scaled_Ch07\"]\n",
    "y=df[\"PRED_Ch07\"]\n",
    "plot_scatter_simple(x,y,heatmap=True,cmap='Spectral_r',vmin=0,vmax=2,save=False,title=\"Retina_1_2\")"
   ]
  },
  {
   "cell_type": "code",
   "execution_count": null,
   "metadata": {},
   "outputs": [],
   "source": [
    "loss=str(0.14801815)\n",
    "basepath = r\"C:\\Users\\Thibaut Goldsborough\\Documents\\Seth_BoneMarrow\\Data\\Retina_0_0\"\n",
    "outpath = basepath + \"\\\\Results\"+\"\\\\Res\"+loss\n",
    "df=pd.read_csv(outpath+\"\\\\Resnet\"+loss+\".csv\")\n",
    "x=df[\"Scaled_Ch07\"]\n",
    "y=df[\"PRED_Ch07\"]\n",
    "plot_scatter_simple(x,y,heatmap=True,cmap='Spectral_r',bins=60,vmin=0,vmax=2,save=True,title=\"Retina_0_0\")"
   ]
  },
  {
   "cell_type": "code",
   "execution_count": null,
   "metadata": {},
   "outputs": [],
   "source": [
    "loss=str(0.10268596)\n",
    "basepath = r\"C:\\Users\\Thibaut Goldsborough\\Documents\\Seth_BoneMarrow\\Data\\Colon\"\n",
    "outpath = basepath + \"\\\\Results\"+\"\\\\Res\"+loss\n",
    "df=pd.read_csv(outpath+\"\\\\Resnet\"+loss+\".csv\")\n",
    "x=df[\"Scaled_Ch07\"]\n",
    "y=df[\"PRED_Ch07\"]\n",
    "plot_scatter_simple(x,y,heatmap=True,cmap='Spectral_r',bins=70,vmin=0,vmax=2,save=True,title=\"Colon\")"
   ]
  },
  {
   "cell_type": "code",
   "execution_count": null,
   "metadata": {},
   "outputs": [],
   "source": [
    "loss=str(0.06357869)\n",
    "basepath = r\"C:\\Users\\Thibaut Goldsborough\\Documents\\Seth_BoneMarrow\\Data\\Choroid\"\n",
    "outpath = basepath + \"\\\\Results\"+\"\\\\Res\"+loss\n",
    "df=pd.read_csv(outpath+\"\\\\Resnet\"+loss+\".csv\")\n",
    "x=df[\"Scaled_Ch07\"]\n",
    "y=df[\"PRED_Ch07\"]\n",
    "plot_scatter_simple(x,y,heatmap=True,cmap='Spectral_r',bins=70,vmin=0,vmax=2,save=True,title=\"Choroid\")"
   ]
  },
  {
   "cell_type": "code",
   "execution_count": null,
   "metadata": {},
   "outputs": [],
   "source": [
    "loss=str(0.23910117)\n",
    "basepath = r\"C:\\Users\\Thibaut Goldsborough\\Documents\\Seth_BoneMarrow\\Data\\BoneMarrow_sample1\"\n",
    "outpath = basepath + \"\\\\Results\"+\"\\\\Res\"+loss\n",
    "df=pd.read_csv(outpath+\"\\\\Resnet\"+loss+\".csv\")\n",
    "x=df[\"Scaled_Ch07\"]\n",
    "y=df[\"PRED_Ch07\"]\n",
    "plot_scatter_simple(x,y,heatmap=True,cmap='Spectral_r',bins=70,vmin=0,vmax=2,save=True,title=\"Bone_Marrow\")"
   ]
  },
  {
   "cell_type": "code",
   "execution_count": null,
   "metadata": {},
   "outputs": [],
   "source": []
  },
  {
   "cell_type": "code",
   "execution_count": null,
   "metadata": {},
   "outputs": [],
   "source": [
    "\n",
    "basepath = r\"C:\\Users\\Thibaut Goldsborough\\Documents\\Seth_BoneMarrow\\Data\\Retina_1_2\"\n",
    "outpath = basepath + \"\\\\Results\"\n",
    "df=pd.read_csv(outpath+\"\\\\Resnet0.82300067.csv\")\n",
    "x=df[\"Scaled_Ch11\"]\n",
    "y=df[\"PRED_Ch11\"]\n",
    "plot_scatter_simple(x,y,heatmap=True,cmap='Spectral_r',vmin=0,vmax=2,save=False,title=\"Retina_1_2\")"
   ]
  },
  {
   "cell_type": "code",
   "execution_count": null,
   "metadata": {},
   "outputs": [],
   "source": [
    "\n",
    "basepath = r\"C:\\Users\\Thibaut Goldsborough\\Documents\\Seth_BoneMarrow\\Data\\Retina_1_2\"\n",
    "outpath = basepath + \"\\\\Results\"\n",
    "df=pd.read_csv(outpath+\"\\\\Resnet0.19413795.csv\")\n",
    "x=df[\"Scaled_Ch10\"]\n",
    "y=df[\"PRED_Ch10\"]\n",
    "plot_scatter_simple(x,y,heatmap=True,cmap='Spectral_r',vmin=0,vmax=2,save=False,title=\"Retina_1_2\")"
   ]
  },
  {
   "cell_type": "code",
   "execution_count": null,
   "metadata": {},
   "outputs": [],
   "source": [
    "latent_df=pd.read_csv(outpath+\"\\\\Res0.7304248\\\\Resnet0.7304248.csv\")\n",
    "namesdf=latent_df[\"Cell_ID\"].to_numpy()\n",
    "display_images=[image_dict[int(i)]['Ch1'] for i in namesdf]\n",
    "display_images-=np.min(display_images)\n",
    "display_images/=np.max(display_images)\n",
    "display_images*=255\n",
    "display_images*=1.5\n",
    "\n",
    "\n",
    "basepath = r\"C:\\Users\\Thibaut Goldsborough\\Documents\\Seth_BoneMarrow\\Data\\Retina_1_2\"\n",
    "outpath = basepath + \"\\\\Results\"\n",
    "df=pd.read_csv(outpath+\"\\\\Res0.7304248\\\\Resnet0.7304248.csv\")\n",
    "x=df[\"Scaled_Ch11_Comp\"]\n",
    "y=df[\"PRED_Ch11_Comp\"]\n",
    "u=np.vstack((x,y)).T\n",
    "x,y,z=density_scatter( x , y, sort = True, bins =[10,10])\n",
    "interactive_session(u,display_images,z,namesdf)\n",
    "\n",
    "\n",
    "\n",
    "\n",
    "#plot_scatter_simple(x,y,heatmap=True,cmap='Spectral_r',vmin=0,vmax=2,save=True,title=\"Retina_1_2 Single Cells\")"
   ]
  },
  {
   "cell_type": "code",
   "execution_count": null,
   "metadata": {},
   "outputs": [],
   "source": [
    "plt.imshow(image_dict[9260]['Ch1'],cmap=\"Greys\",vmin=-20,vmax=50)\n",
    "plt.axis('off')\n",
    "plt.savefig(r\"C:\\Users\\Thibaut Goldsborough\\Documents\\Seth_BoneMarrow\\Report\\Icons\\\\\"+\"n7_13.png\",bbox_inches=\"tight\")\n",
    "plt.show()\n",
    "plt.imshow(image_dict[7124]['Ch1'],cmap=\"Greys\",vmin=-20,vmax=50)\n",
    "plt.axis('off')\n",
    "plt.savefig(r\"C:\\Users\\Thibaut Goldsborough\\Documents\\Seth_BoneMarrow\\Report\\Icons\\\\\"+\"n16_12.png\",bbox_inches=\"tight\")\n",
    "plt.show()\n",
    "plt.imshow(image_dict[9775]['Ch1'],cmap=\"Greys\",vmin=-20,vmax=50)\n",
    "plt.axis('off')\n",
    "plt.savefig(r\"C:\\Users\\Thibaut Goldsborough\\Documents\\Seth_BoneMarrow\\Report\\Icons\\\\\"+\"n10_2.png\",bbox_inches=\"tight\")\n",
    "plt.show()\n",
    "plt.imshow(image_dict[7623]['Ch1'],cmap=\"Greys\",vmin=-20,vmax=50)\n",
    "plt.axis('off')\n",
    "plt.savefig(r\"C:\\Users\\Thibaut Goldsborough\\Documents\\Seth_BoneMarrow\\Report\\Icons\\\\\"+\"n10_8.png\",bbox_inches=\"tight\")\n",
    "plt.show()\n",
    "plt.imshow(image_dict[55102]['Ch1'],cmap=\"Greys\",vmin=-20,vmax=50)\n",
    "plt.axis('off')\n",
    "plt.savefig(r\"C:\\Users\\Thibaut Goldsborough\\Documents\\Seth_BoneMarrow\\Report\\Icons\\\\\"+\"n9_12.png\",bbox_inches=\"tight\")\n",
    "plt.show()\n",
    "plt.imshow(image_dict[51911]['Ch1'],cmap=\"Greys\",vmin=-20,vmax=50)\n",
    "plt.axis('off')\n",
    "plt.savefig(r\"C:\\Users\\Thibaut Goldsborough\\Documents\\Seth_BoneMarrow\\Report\\Icons\\\\\"+\"n11_11.png\",bbox_inches=\"tight\")\n",
    "plt.show()\n",
    "plt.imshow(image_dict[50550]['Ch1'],cmap=\"Greys\",vmin=-20,vmax=50)\n",
    "plt.axis('off')\n",
    "plt.savefig(r\"C:\\Users\\Thibaut Goldsborough\\Documents\\Seth_BoneMarrow\\Report\\Icons\\\\\"+\"n1_1.png\",bbox_inches=\"tight\")\n",
    "plt.show()\n",
    "plt.imshow(image_dict[51949]['Ch1'],cmap=\"Greys\",vmin=-20,vmax=50)\n",
    "plt.axis('off')\n",
    "plt.savefig(r\"C:\\Users\\Thibaut Goldsborough\\Documents\\Seth_BoneMarrow\\Report\\Icons\\\\\"+\"n1_3.png\",bbox_inches=\"tight\")\n",
    "plt.show()"
   ]
  },
  {
   "cell_type": "code",
   "execution_count": null,
   "metadata": {},
   "outputs": [],
   "source": []
  }
 ],
 "metadata": {
  "interpreter": {
   "hash": "96e92283253362575e1b2577a58171a1def071c2d4840c376515c402fb1735d8"
  },
  "kernelspec": {
   "display_name": "Python 3.9.7 ('deep_learning')",
   "language": "python",
   "name": "python3"
  },
  "language_info": {
   "codemirror_mode": {
    "name": "ipython",
    "version": 3
   },
   "file_extension": ".py",
   "mimetype": "text/x-python",
   "name": "python",
   "nbconvert_exporter": "python",
   "pygments_lexer": "ipython3",
   "version": "3.9.7"
  },
  "orig_nbformat": 4
 },
 "nbformat": 4,
 "nbformat_minor": 2
}
