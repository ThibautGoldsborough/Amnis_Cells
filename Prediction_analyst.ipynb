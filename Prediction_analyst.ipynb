{
 "cells": [
  {
   "cell_type": "code",
   "execution_count": null,
   "metadata": {},
   "outputs": [],
   "source": [
    "#Import required packages\n",
    "import numpy as np\n",
    "import pandas as pd\n",
    "import numpy as np\n",
    "import pandas as pd\n",
    "import matplotlib.pyplot as plt\n",
    "from Helper_functions import density_scatter\n",
    "from matplotlib import cm\n",
    "from matplotlib.colors import Normalize \n",
    "from scipy.interpolate import interpn\n",
    "\n",
    "#Insert filepath for local files  FOR THIBAUT\n",
    "basepath = r\"C:\\Users\\Thibaut Goldsborough\\Documents\\Seth_BoneMarrow\\Data\\BoneMarrow_sample1\"\n",
    "outpath = basepath + \"\\\\Results\"\n",
    "\n",
    "channel_dict={'Ch02': 'FITC (Pericytes)','Ch03': 'PE-TdTomato (Stromal Cells)','Ch11':'APC-CD45 (Leukocytes)'}\n",
    "\n",
    "\n",
    "df1=pd.read_csv(outpath+\"\\\\Resnet0.7105301.csv\")\n",
    "\n",
    "df=pd.read_csv(outpath+\"\\\\Resnet0.619895.csv\")\n",
    "\n",
    "df=pd.read_csv(outpath+\"\\\\Resnet0.5226294.csv\")\n"
   ]
  },
  {
   "cell_type": "code",
   "execution_count": null,
   "metadata": {},
   "outputs": [],
   "source": [
    "print(df.columns)"
   ]
  },
  {
   "cell_type": "code",
   "execution_count": null,
   "metadata": {},
   "outputs": [],
   "source": [
    "def plot_scatter(df,channels,heatmap=False,cmap='magma_r',save=False,**kwargs):\n",
    "\n",
    "    fig, axs = plt.subplots(1, len(channels),figsize=(30,10))\n",
    "    for i,channel in enumerate(channels):\n",
    "\n",
    "        axs[i].set_xlim(np.min(df[\"SCALED_Intensity_MC_\"+channel]),np.max(df[\"SCALED_Intensity_MC_\"+channel]))\n",
    "        axs[i].set_ylim(np.min(df[\"SCALED_Intensity_MC_\"+channel]),np.max(df[\"SCALED_Intensity_MC_\"+channel]))\n",
    "        xy=np.linspace(-10,10,5000)\n",
    "        axs[i].set_aspect('equal', adjustable='box')\n",
    "        x=df[\"SCALED_Intensity_MC_\"+channel].to_numpy()\n",
    "        y=df[\"PRED_Intensity_MC_\"+channel].to_numpy()\n",
    "      #  np.random.shuffle(x)\n",
    "      #  np.random.shuffle(y)\n",
    "        if not heatmap:\n",
    "            axs[i].scatter(x,y,s=1,alpha=0.5)\n",
    "        else:\n",
    "            x,y,z=density_scatter( x , y, sort = True, bins =[40,40])\n",
    "            axs[i].scatter(x,y,c=z,s=1,cmap=cmap,**kwargs)\n",
    "            norm = Normalize(vmin = np.min(z), vmax = np.max(z))\n",
    "            \n",
    "    \n",
    "        axs[i].text(min(x)+1,max(y),horizontalalignment='left',verticalalignment='top',s=\"Correlation: \"+str(round(np.corrcoef(x,y)[0,1],3)))\n",
    "        axs[i].scatter(xy,xy,s=0.5,alpha=0.2,color=\"red\")\n",
    "\n",
    "        axs[i].set_xlabel(\"Actual fluorescence\")\n",
    "        axs[i].set_ylabel(\"Predicted fluorescence\")\n",
    "        axs[i].set_title(channel_dict[channel])\n",
    "\n",
    "\n",
    "   # if heatmap:\n",
    "   #     fig.colorbar(cm.ScalarMappable(norm = norm),shrink=1,label='Density',ax=axs[2],cmap=cmap)\n",
    "\n",
    "    if save:\n",
    "        plt.savefig(basepath+\"\\\\predictions.png\",dpi=500)\n",
    "    plt.show()\n",
    "    "
   ]
  },
  {
   "cell_type": "code",
   "execution_count": null,
   "metadata": {},
   "outputs": [],
   "source": [
    "df=pd.read_csv(outpath+\"\\\\Resnet0.5226294.csv\")\n",
    "plot_scatter(df,[\"Ch02\",\"Ch03\",\"Ch11\"],heatmap=True,cmap='Spectral_r',vmin=0,vmax=2,save=False)\n"
   ]
  },
  {
   "cell_type": "code",
   "execution_count": null,
   "metadata": {},
   "outputs": [],
   "source": [
    "\n",
    "df=pd.read_csv(outpath+\"\\\\Resnet0.34091082.csv\")\n",
    "plot_scatter(df,[\"Ch02\",\"Ch03\",\"Ch11\"],heatmap=True,cmap='magma',vmin=0,vmax=2)"
   ]
  },
  {
   "cell_type": "code",
   "execution_count": null,
   "metadata": {},
   "outputs": [],
   "source": []
  }
 ],
 "metadata": {
  "interpreter": {
   "hash": "96e92283253362575e1b2577a58171a1def071c2d4840c376515c402fb1735d8"
  },
  "kernelspec": {
   "display_name": "Python 3.9.7 ('deep_learning')",
   "language": "python",
   "name": "python3"
  },
  "language_info": {
   "codemirror_mode": {
    "name": "ipython",
    "version": 3
   },
   "file_extension": ".py",
   "mimetype": "text/x-python",
   "name": "python",
   "nbconvert_exporter": "python",
   "pygments_lexer": "ipython3",
   "version": "3.9.7"
  },
  "orig_nbformat": 4
 },
 "nbformat": 4,
 "nbformat_minor": 2
}
