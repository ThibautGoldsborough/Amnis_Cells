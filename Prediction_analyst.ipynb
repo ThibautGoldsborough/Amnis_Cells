{
 "cells": [
  {
   "cell_type": "code",
   "execution_count": null,
   "metadata": {},
   "outputs": [],
   "source": [
    "#Import required packages\n",
    "import numpy as np\n",
    "import pandas as pd\n",
    "import numpy as np\n",
    "import pandas as pd\n",
    "import matplotlib.pyplot as plt\n",
    "from Helper_functions import density_scatter\n",
    "from matplotlib import cm\n",
    "from matplotlib.colors import Normalize \n",
    "from scipy.interpolate import interpn\n",
    "from scipy.stats import spearmanr\n",
    "\n",
    "plt.rc('text', usetex = False)\n",
    "plt.rc('font', family = 'serif')\n",
    "plt.rcParams['axes.labelsize'] = 20\n",
    "plt.rcParams['xtick.labelsize']=20\n",
    "plt.rcParams['ytick.labelsize']=20\n",
    "plt.rcParams['axes.titlesize'] =20\n",
    "plt.rc('font', size=15)  \n",
    "\n",
    "#Insert filepath for local files  FOR THIBAUT\n",
    "DATASETS=[\"BoneMarrow_sample1\",\"Retina_1_2\",\"Colon\",\"Choroid\"]\n",
    "DATASET=\"Retina_1_2\"\n",
    "\n",
    "basepath = r\"C:\\Users\\Thibaut Goldsborough\\Documents\\Seth_BoneMarrow\\Data\\\\\" +DATASET\n",
    "outpath = basepath + \"\\\\Results\"\n",
    "\n",
    "channel_dict={'Ch02': 'FITC (Pericytes)','Ch03': 'PE-TdTomato (Stromal Cells)','Ch11':'APC-CD45 (Leukocytes)', 'Ch07': \"Nuclear stain (DNA)\"}\n",
    "channel_dict={'Ch11': 'AF647 PDC (Photoreceptors)','Ch10': 'CA10-BV605', 'Ch07': \"SYTO40 (DNA)\"}\n"
   ]
  },
  {
   "cell_type": "code",
   "execution_count": null,
   "metadata": {},
   "outputs": [],
   "source": [
    "def plot_scatter(df,channels,heatmap=False,cmap='magma_r',save=False,**kwargs):\n",
    "    #fig, axs = plt.subplots(int(np.ceil(len(channels)/2)),2,figsize=(int(np.ceil(len(channels)/2))*10,2*10))\n",
    "    fig, axs = plt.subplots(int(np.ceil(len(channels)/2)),2,figsize=(17.5,17.5))\n",
    "\n",
    "    for i,channel in enumerate(channels):\n",
    "        ax_index=(i//2,i%2)\n",
    "        if len(channels)<=2:\n",
    "            ax_index=(i)\n",
    "        axs[ax_index].set_xlim(np.min(df[\"SCALED_Intensity_MC_\"+channel]),np.max(df[\"SCALED_Intensity_MC_\"+channel]))\n",
    "        axs[ax_index].set_ylim(np.min(df[\"SCALED_Intensity_MC_\"+channel]),np.max(df[\"SCALED_Intensity_MC_\"+channel]))\n",
    "        \n",
    "        axs[ax_index].set_aspect('equal', adjustable='box')\n",
    "        x=df[\"SCALED_Intensity_MC_\"+channel].to_numpy()\n",
    "        y=df[\"PRED_Intensity_MC_\"+channel].to_numpy()\n",
    "        #np.random.shuffle(x)\n",
    "        #np.random.shuffle(y)\n",
    "        if not heatmap:\n",
    "            axs[ax_index].scatter(x,y,s=1,alpha=0.5)\n",
    "        else:\n",
    "            x,y,z=density_scatter( x , y, sort = True, bins =[40,40])\n",
    "            axs[ax_index].scatter(x,y,c=z,s=1,cmap=cmap,**kwargs)\n",
    "            norm = Normalize(vmin = np.min(z), vmax = np.max(z))\n",
    "            \n",
    "        ymin, ymax = axs[ax_index].get_ylim()\n",
    "        R=np.corrcoef(x,y)[0,1]\n",
    "        rho, pval = spearmanr(x, y)\n",
    "        xs = np.linspace(0.0, 1.0, 100)\n",
    "        rgb1 = cm.get_cmap(cmap)(xs)[0][:-1]\n",
    "        rgb2 = cm.get_cmap(cmap)(xs)[-1][:-1]\n",
    "        rgb=[rgb1,rgb2][np.argmax([sum(rgb2),sum(rgb1)])]  #These lines are just to get the color of the x=y line and the correlation values match the colormap\n",
    "\n",
    "        axs[ax_index].text(ymin+0.1*abs(ymax-ymin),ymax-0.02*abs(ymax-ymin),horizontalalignment='left',verticalalignment='top',s=\"R-value: \"+str(round(R,3)),color=rgb)\n",
    "        axs[ax_index].text(ymin+0.1*abs(ymax-ymin),ymax-0.07*abs(ymax-ymin),horizontalalignment='left',verticalalignment='top',s=r'$\\rho$: '+str(round(rho,3)),color=rgb)\n",
    "        #axs[i].text(ymin+0.1*abs(ymax-ymin),ymax-0.16*abs(ymax-ymin),horizontalalignment='left',verticalalignment='top',s=\"p-value: \"+str(pval),color='red')\n",
    "        xy=np.linspace(ymin,ymax,100)\n",
    "        axs[ax_index].plot(xy,xy,color=rgb)\n",
    "\n",
    "        axs[ax_index].set_xlabel(\"Actual fluorescence\")\n",
    "        axs[ax_index].set_ylabel(\"Predicted fluorescence\")\n",
    "        axs[ax_index].set_title(channel_dict[channel])\n",
    "\n",
    "   # if heatmap:\n",
    "   #     fig.colorbar(cm.ScalarMappable(norm = norm),shrink=1,label='Density',ax=axs[2],cmap=cmap)\n",
    "    if len(channels)%2!=0:\n",
    "        i+=1\n",
    "        ax_index=(i//2,i%2)\n",
    "        if len(channels)<=2:\n",
    "            ax_index=(i)\n",
    "        axs[ax_index].set_axis_off()\n",
    "\n",
    "    if save:\n",
    "        plt.savefig(outpath+\"\\\\predictions.png\",dpi=500,bbox_inches='tight')\n",
    "    plt.show()\n",
    "    "
   ]
  },
  {
   "cell_type": "code",
   "execution_count": null,
   "metadata": {},
   "outputs": [],
   "source": [
    "df=pd.read_csv(outpath+\"\\\\Resnet0.2762514.csv\")\n",
    "plot_scatter(df,[\"Ch02\"],heatmap=True,cmap='Spectral_r',vmin=0,vmax=2,save=False)"
   ]
  },
  {
   "cell_type": "code",
   "execution_count": null,
   "metadata": {},
   "outputs": [],
   "source": [
    "\n",
    "basepath = r\"C:\\Users\\Thibaut Goldsborough\\Documents\\Seth_BoneMarrow\\Data\\Choroid\"\n",
    "outpath = basepath + \"\\\\Results\"\n",
    "df=pd.read_csv(outpath+\"\\\\Resnet0.16602623.csv\")\n",
    "plot_scatter(df,[\"Ch07\"],heatmap=True,cmap='Spectral_r',vmin=0,vmax=2,save=True)"
   ]
  },
  {
   "cell_type": "code",
   "execution_count": null,
   "metadata": {},
   "outputs": [],
   "source": [
    "\n",
    "basepath = r\"C:\\Users\\Thibaut Goldsborough\\Documents\\Seth_BoneMarrow\\Data\\Colon\"\n",
    "outpath = basepath + \"\\\\Results\"\n",
    "df=pd.read_csv(outpath+\"\\\\Resnet0.13322417.csv\")\n",
    "plot_scatter(df,[\"Ch07\"],heatmap=True,cmap='Spectral_r',vmin=0,vmax=2,save=False)"
   ]
  },
  {
   "cell_type": "code",
   "execution_count": null,
   "metadata": {},
   "outputs": [],
   "source": [
    "df=pd.read_csv(outpath+\"\\\\Resnet0.33705848.csv\")\n",
    "plot_scatter(df,[\"Ch07\",\"Ch10\",\"Ch11\"],heatmap=True,cmap='Spectral_r',vmin=0,vmax=2,save=True)"
   ]
  },
  {
   "cell_type": "code",
   "execution_count": null,
   "metadata": {},
   "outputs": [],
   "source": [
    "df=pd.read_csv(outpath+\"\\\\Resnet0.35477188.csv\")\n",
    "plot_scatter(df,[\"Ch07\",\"Ch10\",\"Ch11\"],heatmap=True,cmap='Spectral_r',vmin=0,vmax=2,save=False)"
   ]
  },
  {
   "cell_type": "code",
   "execution_count": null,
   "metadata": {},
   "outputs": [],
   "source": []
  },
  {
   "cell_type": "code",
   "execution_count": null,
   "metadata": {},
   "outputs": [],
   "source": [
    "df=pd.read_csv(outpath+\"\\\\Resnet0.5226294.csv\")\n",
    "plot_scatter(df,[\"Ch02\",\"Ch03\",\"Ch11\"],heatmap=True,cmap='Spectral_r',vmin=0,vmax=2,save=False)\n"
   ]
  },
  {
   "cell_type": "code",
   "execution_count": null,
   "metadata": {},
   "outputs": [],
   "source": [
    "\n",
    "df=pd.read_csv(outpath+\"\\\\Resnet0.34091082.csv\")\n",
    "plot_scatter(df,[\"Ch02\",\"Ch03\",\"Ch11\"],heatmap=True,cmap='magma_r',vmin=0,vmax=2)"
   ]
  },
  {
   "cell_type": "code",
   "execution_count": null,
   "metadata": {},
   "outputs": [],
   "source": [
    "\n",
    "df=pd.read_csv(outpath+\"\\\\Resnet0.33479807.csv\")\n",
    "plot_scatter(df,[\"Ch02\",\"Ch03\",\"Ch11\",\"Ch07\"],heatmap=True,cmap='Spectral_r',vmin=0,vmax=2,save=False)"
   ]
  },
  {
   "cell_type": "code",
   "execution_count": null,
   "metadata": {},
   "outputs": [],
   "source": [
    "from Helper_functions import load_dict\n",
    "import cv2 as cv\n",
    "from Helper_functions import interactive_session\n",
    "\n",
    "image_dim=64 #Dim of the final images\n",
    "nuclear_channel=\"Ch7\"\n",
    "cellmask_channel=\"Ch1_mask\"\n",
    "outpath2=basepath+\"//Outputs\"\n",
    "df=pd.read_csv(outpath2+\"\\\\cell_info.csv\")\n",
    "cell_names=df[\"Cell_ID\"].to_numpy()\n",
    "Prediction_Channels=['Ch07']\n",
    "image_dict=load_dict(outpath2,cell_names,image_dim)\n",
    "Channels=['Ch1']  #Channel to be fed to the NN\n",
    "images_with_index = []\n",
    "for image_i in image_dict:\n",
    "    if len(image_dict[image_i].keys())>=len(Channels):\n",
    "        image=cv.merge([image_dict[image_i][i] for i in Channels])\n",
    "        images_with_index.append((int(image_i),image))\n",
    "    else:\n",
    "        print(image_i)\n",
    "images=np.array([image[1] for image in images_with_index])\n",
    "names=np.array([image[0] for image in images_with_index])\n",
    "DNA_pos=df[\"DNA_pos\"].to_numpy()\n",
    "Touches_Boundary=df[\"Touches_boundary\"].to_numpy()\n",
    "labels=df[[\"Intensity_MC_\"+channel for channel in Prediction_Channels]].to_numpy()\n"
   ]
  },
  {
   "cell_type": "code",
   "execution_count": null,
   "metadata": {},
   "outputs": [],
   "source": [
    "plt.imshow(image_dict[863]['Ch1'])"
   ]
  },
  {
   "cell_type": "code",
   "execution_count": null,
   "metadata": {},
   "outputs": [],
   "source": [
    "latent_df=pd.read_csv(outpath+\"\\\\Resnet0.35477188.csv\")\n",
    "namesdf=latent_df[\"Cell_ID\"].to_numpy()\n",
    "display_images=[image_dict[int(i)]['Ch1'] for i in namesdf]\n",
    "display_images-=np.min(display_images)\n",
    "display_images/=np.max(display_images)\n",
    "display_images*=255\n",
    "display_images*=1.5"
   ]
  },
  {
   "cell_type": "code",
   "execution_count": null,
   "metadata": {},
   "outputs": [],
   "source": [
    "latent_df[latent_df[\"Cell_ID\"]==7086]"
   ]
  },
  {
   "cell_type": "code",
   "execution_count": null,
   "metadata": {},
   "outputs": [],
   "source": [
    "plt.imshow(display_images[0])\n",
    "plt.colorbar()"
   ]
  },
  {
   "cell_type": "code",
   "execution_count": null,
   "metadata": {},
   "outputs": [],
   "source": [
    "np.min(display_images)"
   ]
  },
  {
   "cell_type": "code",
   "execution_count": null,
   "metadata": {},
   "outputs": [],
   "source": [
    "def plot_scatter(df,channels,heatmap=False,cmap='magma_r',save=False,interactive=False,**kwargs):\n",
    "    #fig, axs = plt.subplots(int(np.ceil(len(channels)/2)),2,figsize=(int(np.ceil(len(channels)/2))*10,2*10))\n",
    "    fig, axs = plt.subplots(int(np.ceil(len(channels)/2)),2,figsize=(17.5,17.5))\n",
    "\n",
    "    for i,channel in enumerate(channels):\n",
    "        ax_index=(i//2,i%2)\n",
    "        if len(channels)<=2:\n",
    "            ax_index=(i)\n",
    "        axs[ax_index].set_xlim(np.min(df[\"SCALED_Intensity_MC_\"+channel]),np.max(df[\"SCALED_Intensity_MC_\"+channel]))\n",
    "        axs[ax_index].set_ylim(np.min(df[\"SCALED_Intensity_MC_\"+channel]),np.max(df[\"SCALED_Intensity_MC_\"+channel]))\n",
    "        \n",
    "        axs[ax_index].set_aspect('equal', adjustable='box')\n",
    "        x=df[\"SCALED_Intensity_MC_\"+channel].to_numpy()\n",
    "        y=df[\"PRED_Intensity_MC_\"+channel].to_numpy()\n",
    "        #np.random.shuffle(x)\n",
    "        #np.random.shuffle(y)\n",
    "\n",
    "\n",
    "\n",
    "        if not heatmap:\n",
    "            axs[ax_index].scatter(x,y,s=1,alpha=0.5)\n",
    "        else:\n",
    "            x,y,z=density_scatter( x , y, sort = False, bins =[40,40])\n",
    "            axs[ax_index].scatter(x,y,c=z,s=1,cmap=cmap,**kwargs)\n",
    "            norm = Normalize(vmin = np.min(z), vmax = np.max(z))\n",
    "            \n",
    "        if interactive:\n",
    "            u=np.vstack((x,y)).T\n",
    "            interactive_session(u,display_images,z,namesdf)\n",
    "\n",
    "        ymin, ymax = axs[ax_index].get_ylim()\n",
    "        R=np.corrcoef(x,y)[0,1]\n",
    "        rho, pval = spearmanr(x, y)\n",
    "        xs = np.linspace(0.0, 1.0, 100)\n",
    "        rgb1 = cm.get_cmap(cmap)(xs)[0][:-1]\n",
    "        rgb2 = cm.get_cmap(cmap)(xs)[-1][:-1]\n",
    "        rgb=[rgb1,rgb2][np.argmax([sum(rgb2),sum(rgb1)])]  #These lines are just to get the color of the x=y line and the correlation values match the colormap\n",
    "\n",
    "        axs[ax_index].text(ymin+0.1*abs(ymax-ymin),ymax-0.02*abs(ymax-ymin),horizontalalignment='left',verticalalignment='top',s=\"R-value: \"+str(round(R,3)),color=rgb)\n",
    "        axs[ax_index].text(ymin+0.1*abs(ymax-ymin),ymax-0.07*abs(ymax-ymin),horizontalalignment='left',verticalalignment='top',s=r'$\\rho$: '+str(round(rho,3)),color=rgb)\n",
    "        #axs[i].text(ymin+0.1*abs(ymax-ymin),ymax-0.16*abs(ymax-ymin),horizontalalignment='left',verticalalignment='top',s=\"p-value: \"+str(pval),color='red')\n",
    "        xy=np.linspace(ymin,ymax,100)\n",
    "        axs[ax_index].plot(xy,xy,color=rgb)\n",
    "\n",
    "        axs[ax_index].set_xlabel(\"Actual fluorescence\")\n",
    "        axs[ax_index].set_ylabel(\"Predicted fluorescence\")\n",
    "        axs[ax_index].set_title(channel_dict[channel])\n",
    "\n",
    "\n",
    "   # if heatmap:\n",
    "   #     fig.colorbar(cm.ScalarMappable(norm = norm),shrink=1,label='Density',ax=axs[2],cmap=cmap)\n",
    "    if len(channels)%2!=0:\n",
    "        i+=1\n",
    "        ax_index=(i//2,i%2)\n",
    "        if len(channels)<=2:\n",
    "            ax_index=(i)\n",
    "        axs[ax_index].set_axis_off()\n",
    "\n",
    "    if save:\n",
    "        plt.savefig(outpath+\"\\\\predictions.png\",dpi=500,bbox_inches='tight')\n",
    "    plt.show()\n",
    "    "
   ]
  },
  {
   "cell_type": "code",
   "execution_count": null,
   "metadata": {},
   "outputs": [],
   "source": [
    "plot_scatter(latent_df,[\"Ch11\"],heatmap=True,cmap='magma_r',vmin=0,vmax=2,interactive=True)"
   ]
  },
  {
   "cell_type": "code",
   "execution_count": null,
   "metadata": {},
   "outputs": [],
   "source": []
  }
 ],
 "metadata": {
  "interpreter": {
   "hash": "96e92283253362575e1b2577a58171a1def071c2d4840c376515c402fb1735d8"
  },
  "kernelspec": {
   "display_name": "Python 3.9.7 ('deep_learning')",
   "language": "python",
   "name": "python3"
  },
  "language_info": {
   "codemirror_mode": {
    "name": "ipython",
    "version": 3
   },
   "file_extension": ".py",
   "mimetype": "text/x-python",
   "name": "python",
   "nbconvert_exporter": "python",
   "pygments_lexer": "ipython3",
   "version": "3.9.7"
  },
  "orig_nbformat": 4
 },
 "nbformat": 4,
 "nbformat_minor": 2
}
