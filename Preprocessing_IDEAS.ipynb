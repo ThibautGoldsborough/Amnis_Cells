{
 "cells": [
  {
   "cell_type": "code",
   "execution_count": null,
   "id": "37c43658",
   "metadata": {},
   "outputs": [],
   "source": [
    "#Import required packages\n",
    "import cv2 as cv\n",
    "import os\n",
    "import matplotlib.pyplot as plt\n",
    "import numpy as np\n",
    "import pandas as pd"
   ]
  },
  {
   "cell_type": "code",
   "execution_count": null,
   "id": "450e333a",
   "metadata": {},
   "outputs": [],
   "source": [
    "#Insert filepath for local files  FOR THIBAUT\n",
    "basepath = r\"C:\\Users\\Thibaut Goldsborough\\Documents\\Seth_BoneMarrow\\Data\\BoneMarrow_unstained4\"\n",
    "readpath = basepath + \"\\\\Raw_Images\"\n",
    "outpath = basepath + \"\\\\Outputs\"\n",
    "file_prefix=\"\\\\unstained_\"\n",
    "\n",
    "num_images=10000\n",
    "\n",
    "image_dim=64 #Dim of the final images\n",
    "\n",
    "nuclear_channel=\"Ch7\"\n",
    "cellmask_channel=\"Ch1_mask\""
   ]
  },
  {
   "cell_type": "code",
   "execution_count": null,
   "id": "914c7ff3",
   "metadata": {},
   "outputs": [],
   "source": [
    "#Insert filepath for local files  FOR THIBAUT\n",
    "basepath = r\"C:\\Users\\Thibaut Goldsborough\\Documents\\Seth_BoneMarrow\\Data\\BoneMarrow_smallerfile2\"\n",
    "readpath = basepath + \"\\\\Raw_Images\"\n",
    "outpath = basepath + \"\\\\Outputs\"\n",
    "file_prefix=\"\\\\smaller_file2_\"\n",
    "\n",
    "num_images=10000\n",
    "\n",
    "image_dim=64 #Dim of the final images\n",
    "\n",
    "nuclear_channel=\"Ch7\"\n",
    "cellmask_channel=\"Ch1_mask\""
   ]
  },
  {
   "cell_type": "code",
   "execution_count": null,
   "id": "4c05be18",
   "metadata": {},
   "outputs": [],
   "source": [
    "#Insert filepath for local files  FOR THIBAUT\n",
    "basepath = r\"C:\\Users\\Thibaut Goldsborough\\Documents\\Seth_BoneMarrow\\Data\\BoneMarrow_sample1\"\n",
    "readpath = basepath + \"\\\\Raw_Images\"\n",
    "outpath = basepath + \"\\\\Outputs\"\n",
    "file_prefix=\"\\\\sample1_\"\n",
    "\n",
    "image_dim=64 #Dim of the final images\n",
    "\n",
    "nuclear_channel=None\n",
    "cellmask_channel=\"Ch1_mask\""
   ]
  },
  {
   "cell_type": "code",
   "execution_count": null,
   "id": "4efe4b4b",
   "metadata": {},
   "outputs": [],
   "source": [
    "#Insert filepath for local files  FOR THIBAUT\n",
    "basepath = r\"C:\\Users\\Thibaut Goldsborough\\Documents\\Seth_BoneMarrow\\Data\\Retina_1_2\"\n",
    "readpath = basepath + \"\\\\Raw_Images\"\n",
    "outpath = basepath + \"\\\\Outputs\"\n",
    "file_prefix=\"\\\\retina_1_2_\"\n",
    "\n",
    "image_dim=64 #Dim of the final images\n",
    "\n",
    "nuclear_channel=None\n",
    "cellmask_channel=\"Ch1_mask\"\n",
    "cell_info_str=\"\\\\retina_1_2.csv\""
   ]
  },
  {
   "cell_type": "code",
   "execution_count": null,
   "id": "4aa86b6d",
   "metadata": {},
   "outputs": [],
   "source": [
    "#Insert filepath for local files  FOR THIBAUT\n",
    "basepath = r\"C:\\Users\\Thibaut Goldsborough\\Documents\\Seth_BoneMarrow\\Data\\Colon\"\n",
    "readpath = basepath + \"\\\\Raw_Images\"\n",
    "outpath = basepath + \"\\\\Outputs\"\n",
    "file_prefix=\"\\\\colon_\"\n",
    "\n",
    "if not os.path.exists(outpath):\n",
    "  os.makedirs(outpath)\n",
    "\n",
    "image_dim=64 #Dim of the final images\n",
    "\n",
    "nuclear_channel=None\n",
    "cellmask_channel=\"Ch1_mask\"\n",
    "cell_info_str=\"\\\\colon.csv\""
   ]
  },
  {
   "cell_type": "code",
   "execution_count": null,
   "id": "1095337e",
   "metadata": {},
   "outputs": [],
   "source": [
    "#Insert filepath for local files  FOR THIBAUT\n",
    "basepath = r\"C:\\Users\\Thibaut Goldsborough\\Documents\\Seth_BoneMarrow\\Data\\Retina_0_0\"\n",
    "readpath = basepath + \"\\\\Raw_Images\"\n",
    "outpath = basepath + \"\\\\Outputs\"\n",
    "file_prefix=\"\\\\retina_0_0_\"\n",
    "\n",
    "if not os.path.exists(outpath):\n",
    "  os.makedirs(outpath)\n",
    "\n",
    "image_dim=128 #Dim of the final images\n",
    "\n",
    "nuclear_channel=None\n",
    "cellmask_channel=\"Ch1_mask\"\n",
    "cell_info_str=\"\\\\Retina_0_0.csv\""
   ]
  },
  {
   "cell_type": "code",
   "execution_count": null,
   "id": "1cf0b176",
   "metadata": {},
   "outputs": [],
   "source": [
    "#Read in images\n",
    "names=[]\n",
    "for entry in os.listdir(readpath): #Read all photos\n",
    "    if os.path.isfile(os.path.join(readpath, entry)):\n",
    "        names.append(entry)\n",
    "       # if len(names)>=num_images*3:\n",
    "        #    break\n",
    "\n",
    "channel_names=[channel_name[:-8] for channel_name in np.unique([name.split(\"_\")[file_prefix.count(\"_\")+1] for name in names])] \n",
    "\n",
    "print(\"Found\",len(channel_names),\"channel(s)\")\n",
    "print(channel_names)\n",
    "\n",
    "data_dict={}\n",
    "for name in names:\n",
    "    cell_num=name.split(\"_\")[file_prefix.count(\"_\")]\n",
    "    if cell_num not in data_dict.keys():\n",
    "        data_dict[cell_num]=[cv.imread(readpath+file_prefix+cell_num+'_'+channel_name+'.ome.tif',0  | cv.IMREAD_ANYDEPTH) for channel_name in channel_names]\n",
    "\n",
    "#13s"
   ]
  },
  {
   "cell_type": "code",
   "execution_count": null,
   "id": "5a772071",
   "metadata": {},
   "outputs": [],
   "source": [
    "len(data_dict.keys())"
   ]
  },
  {
   "cell_type": "code",
   "execution_count": null,
   "id": "2489f6d0",
   "metadata": {},
   "outputs": [],
   "source": [
    "BUGS=[]\n",
    "for image in data_dict:\n",
    "    for i in data_dict[image]:\n",
    "      #  print(i)\n",
    "        try: \n",
    "            if i==None:\n",
    "                BUGS.append(image)\n",
    "        except:\n",
    "            pass\n",
    "\n",
    "print(len(BUGS))"
   ]
  },
  {
   "cell_type": "code",
   "execution_count": null,
   "id": "45dc76e6",
   "metadata": {},
   "outputs": [],
   "source": [
    "[data_dict.pop(BUG) for BUG in BUGS]"
   ]
  },
  {
   "cell_type": "code",
   "execution_count": null,
   "id": "cdf51779",
   "metadata": {},
   "outputs": [],
   "source": [
    "#Rescale OME images to tiff\n",
    "max_mins=[[0,1e6] for _ in channel_names]\n",
    "for image_i in data_dict:\n",
    "    image=data_dict[image_i]\n",
    "    for i,_ in enumerate(max_mins):\n",
    "        if max_mins[i][0]<np.max(image[i]):\n",
    "            max_mins[i][0]=np.max(image[i])\n",
    "        if max_mins[i][1]>np.min(image[i]):\n",
    "            max_mins[i][1]=np.min(image[i])\n",
    "print(\"Maximum and minimums of every raw channel\")\n",
    "print(max_mins)"
   ]
  },
  {
   "cell_type": "code",
   "execution_count": null,
   "id": "d45ecf4f",
   "metadata": {},
   "outputs": [],
   "source": [
    "#del data_dict[image_i] Use in case of nonetype error"
   ]
  },
  {
   "cell_type": "code",
   "execution_count": null,
   "id": "06330c22",
   "metadata": {},
   "outputs": [],
   "source": [
    "def scale(img,max_min):\n",
    "    return ((img-max_min[1])/(max_min[0]-max_min[1])*255)#.astype(np.uint8)\n",
    "\n",
    "image_dict={} \n",
    "maskpath=basepath+\"\\\\ExportedMasks\"\n",
    "for image_i in data_dict:\n",
    "    images=data_dict[image_i]  \n",
    "\n",
    "    processed_images=[]\n",
    "    for i,image in enumerate(images):\n",
    "        processed_images.append(scale(image,max_mins[i]))  #Rescale the images\n",
    "\n",
    "    if cellmask_channel is not None:\n",
    "        for channel in channel_names:\n",
    "            processed_images.append(cv.imread(maskpath+file_prefix+image_i+'_'+channel+'.dmask.pgm',0 ))  # mask for channel\n",
    "\n",
    "    image_dict[image_i]=processed_images\n",
    "\n",
    "print(\"Order of the channels:\")\n",
    "channel_order=channel_names+[channel+'_mask' for channel in channel_names]\n",
    "print(channel_order)\n",
    "\n",
    "\n",
    "#This took 3 mins for 10,000 images and 7 channels"
   ]
  },
  {
   "cell_type": "code",
   "execution_count": null,
   "id": "4d0e5fca",
   "metadata": {},
   "outputs": [],
   "source": [
    "#Create dataframe of image shape information\n",
    "shape_df = pd.DataFrame()\n",
    "X=[]\n",
    "Y=[]\n",
    "names=[]\n",
    "for image_i in image_dict:\n",
    "    x,y = image_dict[image_i][0].shape\n",
    "    X.append(x)\n",
    "    Y.append(y)\n",
    "    names.append(image_i)\n",
    "shape_df['image']=names\n",
    "shape_df['x']=X\n",
    "shape_df['y']=Y"
   ]
  },
  {
   "cell_type": "code",
   "execution_count": null,
   "id": "54e43eb7",
   "metadata": {},
   "outputs": [],
   "source": [
    "#Investigate sizes of images\n",
    "print('Average width of image: ', np.round(shape_df.x.mean(), 0), ' Min: ', shape_df.x.min(), ' Max: ', shape_df.x.max())\n",
    "print('Average height of image: ', np.round(shape_df.y.mean(), 0), ' Min: ', shape_df.y.min(), ' Max: ', shape_df.y.max())\n",
    "fig, axs = plt.subplots(2, sharex=True, figsize=(10, 5))\n",
    "fig.suptitle('Raw image shapes')\n",
    "numbins = 30\n",
    "axs[0].hist(shape_df.x, bins=numbins);\n",
    "axs[1].hist(shape_df.y, bins=numbins);\n",
    "plt.savefig(basepath+\"\\\\dimension_hist.png\")"
   ]
  },
  {
   "cell_type": "code",
   "execution_count": null,
   "id": "a236bb39",
   "metadata": {},
   "outputs": [],
   "source": [
    "df=pd.DataFrame()\n",
    "df['Cell_ID']=image_dict.keys()"
   ]
  },
  {
   "cell_type": "code",
   "execution_count": null,
   "id": "8af58ea0",
   "metadata": {},
   "outputs": [],
   "source": [
    "len(df)"
   ]
  },
  {
   "cell_type": "code",
   "execution_count": null,
   "id": "fc0608b1",
   "metadata": {},
   "outputs": [],
   "source": [
    "def Touches_Boundary(data_dict,channel_order,cellmask_channel,threshold=2):\n",
    "    i=channel_order.index(cellmask_channel)\n",
    "    touches=[]\n",
    "    touch_val=[]\n",
    "    for image_i in data_dict:\n",
    "        image=data_dict[image_i][i].copy()\n",
    "        image[1:-1,1:-1]=0  \n",
    "        edge_pos=np.count_nonzero(image) \n",
    "        touch_val.append(edge_pos)\n",
    "        if touch_val[-1]>threshold:\n",
    "            touches.append(1)\n",
    "        else:\n",
    "            touches.append(0)\n",
    "\n",
    "    plt.hist(np.log(np.array(touch_val)+1),bins=100);\n",
    "    plt.axvline(x=threshold,color=\"red\")\n",
    "    plt.show()\n",
    "\n",
    "    return touches\n",
    "\n",
    "\n",
    "df[\"Touches_boundary\"]=Touches_Boundary(image_dict,channel_order,cellmask_channel,threshold=2)\n"
   ]
  },
  {
   "cell_type": "code",
   "execution_count": null,
   "id": "e026a26c",
   "metadata": {},
   "outputs": [],
   "source": [
    "#This sets all the backgrounds to 0\n",
    "cropped_dict={}\n",
    "for channel in channel_names:\n",
    "    channel_index=channel_order.index(channel)\n",
    "    cellmask_index=channel_order.index(channel+'_mask')\n",
    "\n",
    "    for image in image_dict:\n",
    "        mean=np.mean(image_dict[image][channel_index][image_dict[image][cellmask_index]==0])\n",
    "        image_dict[image][channel_index]-=(mean)\n",
    "        a,b,c,d=cv.boundingRect(image_dict[image][cellmask_index])\n",
    "        cropped_img=image_dict[image][channel_index][b:d+b,a:c+a]\n",
    "        cropped_dict[image]=cropped_img\n",
    "\n",
    "final_images=image_dict.copy()"
   ]
  },
  {
   "cell_type": "code",
   "execution_count": null,
   "id": "c5ffbb8a",
   "metadata": {},
   "outputs": [],
   "source": [
    "# plt.imshow(image_dict['1'][0])\n",
    "# plt.show()\n",
    "# plt.imshow(cropped_dict['1'])\n",
    "\n",
    "# #Create dataframe of image shape information\n",
    "# shape_df = pd.DataFrame()\n",
    "# X=[]\n",
    "# Y=[]\n",
    "# names=[]\n",
    "# for image_i in cropped_dict:\n",
    "#     x,y = cropped_dict[image_i].shape\n",
    "#     X.append(x)\n",
    "#     Y.append(y)\n",
    "#     names.append(image_i)\n",
    "# shape_df['image']=names\n",
    "# shape_df['x']=X\n",
    "# shape_df['y']=Y\n",
    "\n",
    "# #Investigate sizes of images\n",
    "# print('Average width of image: ', np.round(shape_df.x.mean(), 0), ' Min: ', shape_df.x.min(), ' Max: ', shape_df.x.max())\n",
    "# print('Average height of image: ', np.round(shape_df.y.mean(), 0), ' Min: ', shape_df.y.min(), ' Max: ', shape_df.y.max())\n",
    "# fig, axs = plt.subplots(2, sharex=True, figsize=(10, 5))\n",
    "# fig.suptitle('Raw image shapes')\n",
    "# numbins = 30\n",
    "# axs[0].hist(shape_df.x, bins=numbins);\n",
    "# axs[1].hist(shape_df.y, bins=numbins);\n"
   ]
  },
  {
   "cell_type": "code",
   "execution_count": null,
   "id": "121bb5e5",
   "metadata": {},
   "outputs": [],
   "source": [
    "len(image_dict)"
   ]
  },
  {
   "cell_type": "code",
   "execution_count": null,
   "id": "0067a8a9",
   "metadata": {},
   "outputs": [],
   "source": [
    "# for image_i in cropped_dict:\n",
    "#     image = cropped_dict[image_i]\n",
    "#     x,y = np.shape(image)\n",
    "#     s = max(x, y)\n",
    "#     width = int((s-x)/2)\n",
    "#     height = int((s-y)/2)\n",
    "#     image = cv.copyMakeBorder(image, width, width, height, height, cv.BORDER_CONSTANT)\n",
    "#     res1 = cv.resize(image, dsize=(image_dim, image_dim), interpolation=cv.INTER_CUBIC)\n",
    "#     cropped_dict[image_i] = [res1]"
   ]
  },
  {
   "cell_type": "code",
   "execution_count": null,
   "id": "48e6023b",
   "metadata": {},
   "outputs": [],
   "source": [
    "#Pad images to squares\n",
    "maxi=shape_df.x.max()\n",
    "mini=shape_df.x.min()\n",
    "\n",
    "def g(x):\n",
    "    return 1/(np.log(x))**10\n",
    "\n",
    "def f(x):\n",
    "    return (g(x)-g(maxi))*(image_dim-mini)/(g(mini)-g(maxi))\n",
    "\n",
    "def r(x):\n",
    "    return int(round(x,0))"
   ]
  },
  {
   "cell_type": "code",
   "execution_count": null,
   "id": "5278e58c",
   "metadata": {},
   "outputs": [],
   "source": [
    "X=np.linspace(mini,maxi,num=1000)\n",
    "plt.plot(X,f(X))\n",
    "#plt.plot(X,X+f(X),color=\"red\")\n",
    "plt.xlabel(\"Longest dimension of the image (pixels)\")\n",
    "plt.ylabel(\"Padding Width (pixels)\");\n",
    "plt.savefig(basepath+\"\\\\dimension_padding.png\")"
   ]
  },
  {
   "cell_type": "code",
   "execution_count": null,
   "id": "86046107",
   "metadata": {},
   "outputs": [],
   "source": [
    "for image_i in final_images:\n",
    "    images = final_images[image_i]\n",
    "    x,y = np.shape(final_images[image_i][0])\n",
    "    if y>x:\n",
    "        height=f(y)\n",
    "        width=(y+height-x)\n",
    "    else:\n",
    "        width=f(x)\n",
    "        height=(x+width-y)\n",
    "\n",
    "    for i,image in enumerate(images):\n",
    "        padded_img=cv.copyMakeBorder(image, r(width/2), r(width/2), r(height/2), r(height/2), cv.BORDER_CONSTANT)\n",
    "        resized_img=cv.resize(padded_img,(image_dim,image_dim))\n",
    "        final_images[image_i][i]=resized_img\n",
    "\n",
    "#14 min "
   ]
  },
  {
   "cell_type": "code",
   "execution_count": null,
   "id": "10534bae",
   "metadata": {},
   "outputs": [],
   "source": [
    "c_dict={}\n",
    "for image_i in cropped_dict:\n",
    "    \n",
    "    image = cropped_dict[image_i]\n",
    "    x,y = np.shape(image)\n",
    "    if y>x:\n",
    "        height=f(y)\n",
    "        width=(y+height-x)\n",
    "    else:\n",
    "        width=f(x)\n",
    "        height=(x+width-y)\n",
    "\n",
    "    padded_img=cv.copyMakeBorder(image, r(width/2), r(width/2), r(height/2), r(height/2), cv.BORDER_CONSTANT)\n",
    "    resized_img=cv.resize(padded_img,(image_dim,image_dim))\n",
    "    c_dict[image_i]=resized_img"
   ]
  },
  {
   "cell_type": "code",
   "execution_count": null,
   "id": "87e82a90",
   "metadata": {},
   "outputs": [],
   "source": [
    "del cropped_dict[image_i]"
   ]
  },
  {
   "cell_type": "code",
   "execution_count": null,
   "id": "01a87dc5",
   "metadata": {},
   "outputs": [],
   "source": [
    "len(c_dict)"
   ]
  },
  {
   "cell_type": "code",
   "execution_count": null,
   "id": "afd74434",
   "metadata": {},
   "outputs": [],
   "source": [
    "df5=pd.read_csv(basepath+cell_info_str)"
   ]
  },
  {
   "cell_type": "code",
   "execution_count": null,
   "id": "1a21aa71",
   "metadata": {},
   "outputs": [],
   "source": [
    "def DNA_POS(data_dict,channel_order,nuclear_channel,threshold=0.8):\n",
    "    if nuclear_channel is None:\n",
    "        df5=pd.read_csv(basepath+cell_info_str)\n",
    "        df5.rename(columns = {'Object Number':'Cell_ID'}, inplace = True)\n",
    "        df[\"Cell_ID\"]=pd.to_numeric(df['Cell_ID'])\n",
    "        int_df=pd.merge(df,df5,how='inner',on=[\"Cell_ID\"]) \n",
    "        nuc_intensity=int_df[\"Intensity_MC_Ch07\"].to_numpy()  #CHANGE THIS TO NUCLEAR CHANNEL\n",
    "        nuc_intensity_s=np.sort(nuc_intensity)\n",
    "        plt.hist(nuc_intensity_s[:-5000],bins=100);\n",
    "        plt.axvline(x=threshold,color=\"red\")\n",
    "        plt.show()\n",
    "        dna_pos=nuc_intensity>=threshold\n",
    "        int_df[\"DNA_pos\"]=dna_pos\n",
    "\n",
    "        return int_df\n",
    "\n",
    "    else:\n",
    "\n",
    "        i=channel_order.index(nuclear_channel)\n",
    "        dna_pos=[]\n",
    "        mean_nuc=[]\n",
    "        for image_i in data_dict:\n",
    "            image=data_dict[image_i][i]\n",
    "            mean_nuc.append(np.mean(image))\n",
    "            if mean_nuc[-1]>=threshold:\n",
    "                dna_pos.append(1)\n",
    "            else:\n",
    "                dna_pos.append(0)\n",
    "\n",
    "        plt.hist(mean_nuc,bins=100);\n",
    "        plt.axvline(x=threshold,color=\"red\")\n",
    "        plt.show()\n",
    "            \n",
    "    return dna_pos\n",
    "\n",
    "#df[\"DNA_pos\"]=DNA_POS(final_images,channel_order,nuclear_channel,threshold=0.8)\n",
    "df6=DNA_POS(final_images,channel_order,nuclear_channel,threshold=100000)\n"
   ]
  },
  {
   "cell_type": "code",
   "execution_count": null,
   "id": "1dd1c1b7",
   "metadata": {},
   "outputs": [],
   "source": [
    "len(df6)"
   ]
  },
  {
   "cell_type": "code",
   "execution_count": null,
   "id": "e9d6b855",
   "metadata": {},
   "outputs": [],
   "source": [
    "posx,posy=[],[]\n",
    "n=100 \n",
    "num_images=(len(final_images)//n)*n\n",
    "def make_tile(final_images,channel_order,prefix=\"\"):\n",
    "    for coi,coi_str in enumerate(channel_order):  #coi is channel of interest\n",
    "        print(\"Saving \"+coi_str+\"...\")\n",
    "        display_ims=[]\n",
    "        names=[]\n",
    "        for image_i in final_images:\n",
    "            images = final_images[image_i]\n",
    "            display_ims.append(images[coi])\n",
    "            names.append(image_i)\n",
    "        #x axis of final image or array \n",
    "        posx,posy=[],[]\n",
    "        l=num_images//n\n",
    "        for i in range(l):\n",
    "            for j in range(n):\n",
    "                posx.append(i)\n",
    "                posy.append(j)\n",
    "                if j==0:\n",
    "                    col_array=display_ims[i*n]\n",
    "                else:\n",
    "                    col_array=np.hstack((col_array,display_ims[i*n+j]))\n",
    "            if i==0:\n",
    "                row_array=col_array\n",
    "            else:\n",
    "                row_array=np.vstack((row_array,col_array))\n",
    "        # myfig=plt.figure(dpi=2000)   #Only for small number of images  \n",
    "        # plt.imshow(row_array-np.min(row_array),vmin=0,vmax=70,cmap=\"Greys\")\n",
    "        # plt.axis('off')\n",
    "        # plt.savefig(outpath+\"\\\\\"+coi_str+\".png\",bbox_inches=\"tight\")\n",
    "        # plt.close()\n",
    "        np.save(outpath+\"\\\\\"+prefix+coi_str,row_array)\n",
    "    np.save(outpath+\"\\\\\"+prefix+\"image_ID\",names)\n",
    "    #This took 5min 16s for 10,000 images and 7 channels (+7 masks)\n",
    "\n",
    "    return posx,posy\n",
    "\n"
   ]
  },
  {
   "cell_type": "code",
   "execution_count": null,
   "id": "60c7f0d8",
   "metadata": {},
   "outputs": [],
   "source": [
    "\n",
    "posx,posy=make_tile(final_images,channel_order)\n",
    "\n",
    "df6=df6.iloc[:num_images]\n",
    "df6[\"POSX\"]=posx[:num_images]\n",
    "df6[\"POSY\"]=posy[:num_images]\n",
    "df6[\"X_length\"]=shape_df['x'][:num_images]\n",
    "df6[\"Y_length\"]=shape_df['y'][:num_images]\n",
    "df6.to_csv(outpath+\"\\\\\"+\"\"+\"cell_info.csv\")"
   ]
  },
  {
   "cell_type": "code",
   "execution_count": null,
   "id": "278cda0e",
   "metadata": {},
   "outputs": [],
   "source": [
    "#make_tile(final_images,['Ch1_mask'])\n",
    "#make_tile(final_images,channel_order)\n",
    "#make_tile(cropped_dict,['Ch1'],prefix=\"cropped_\")"
   ]
  }
 ],
 "metadata": {
  "interpreter": {
   "hash": "96e92283253362575e1b2577a58171a1def071c2d4840c376515c402fb1735d8"
  },
  "kernelspec": {
   "display_name": "Python 3.9.7 ('deep_learning')",
   "language": "python",
   "name": "python3"
  },
  "language_info": {
   "codemirror_mode": {
    "name": "ipython",
    "version": 3
   },
   "file_extension": ".py",
   "mimetype": "text/x-python",
   "name": "python",
   "nbconvert_exporter": "python",
   "pygments_lexer": "ipython3",
   "version": "3.9.7"
  }
 },
 "nbformat": 4,
 "nbformat_minor": 5
}
