{
 "cells": [
  {
   "cell_type": "code",
   "execution_count": null,
   "id": "72658802",
   "metadata": {},
   "outputs": [],
   "source": [
    "#Import required packages\n",
    "import matplotlib.pyplot as plt\n",
    "import numpy as np"
   ]
  },
  {
   "cell_type": "code",
   "execution_count": null,
   "id": "ba8d1b4c",
   "metadata": {},
   "outputs": [],
   "source": [
    "DATASETS=[\"BoneMarrow_sample1\",\"Retina_1_2\",\"Colon\",\"Choroid\"]\n"
   ]
  },
  {
   "cell_type": "code",
   "execution_count": null,
   "id": "bf79c094",
   "metadata": {},
   "outputs": [],
   "source": [
    "for DATASET in DATASETS:\n",
    "    basepath = r\"C:\\Users\\Thibaut Goldsborough\\Documents\\Seth_BoneMarrow\\Data\\\\\" +DATASET\n",
    "    outpath = basepath + \"\\\\Outputs\"\n",
    "    image_dim=64 #Dim of the final images\n",
    "    channels=['Ch1']\n",
    "    w=25  #Number of cells in X direction\n",
    "    h=25\n",
    "    for channel in channels:\n",
    "        my_img=np.load(outpath+\"\\\\\"+channel+'.npy')\n",
    "        my_tile=my_img[0*image_dim:w*image_dim+image_dim,0*image_dim:h*image_dim+image_dim].copy()\n",
    "    my_tile=my_tile-my_tile[0,0]\n",
    "    \n",
    "    myfig=plt.figure(figsize=(10,10),dpi=300)\n",
    "    plt.imshow(my_tile*2.5,vmin=-75,vmax=255,cmap=\"Greys\")   \n",
    "    #plt.colorbar()\n",
    "    plt.axis('off')\n",
    "    plt.savefig(basepath+\"\\\\\"+DATASET+\"_tiling.png\",bbox_inches=\"tight\")\n",
    "    plt.show()\n"
   ]
  }
 ],
 "metadata": {
  "interpreter": {
   "hash": "96e92283253362575e1b2577a58171a1def071c2d4840c376515c402fb1735d8"
  },
  "kernelspec": {
   "display_name": "Python 3.9.7 ('deep_learning')",
   "language": "python",
   "name": "python3"
  },
  "language_info": {
   "codemirror_mode": {
    "name": "ipython",
    "version": 3
   },
   "file_extension": ".py",
   "mimetype": "text/x-python",
   "name": "python",
   "nbconvert_exporter": "python",
   "pygments_lexer": "ipython3",
   "version": "3.9.7"
  }
 },
 "nbformat": 4,
 "nbformat_minor": 5
}
