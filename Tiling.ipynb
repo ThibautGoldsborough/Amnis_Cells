{
 "cells": [
  {
   "cell_type": "code",
   "execution_count": null,
   "id": "72658802",
   "metadata": {},
   "outputs": [],
   "source": [
    "#Import required packages\n",
    "import matplotlib.pyplot as plt\n",
    "import numpy as np\n",
    "import pandas as pd\n"
   ]
  },
  {
   "cell_type": "code",
   "execution_count": null,
   "id": "ba8d1b4c",
   "metadata": {},
   "outputs": [],
   "source": [
    "DATASETS=[\"BoneMarrow_sample1\",\"Retina_1_2\",\"Colon\",\"Choroid\",\"Retina_0_0\"]\n"
   ]
  },
  {
   "cell_type": "code",
   "execution_count": null,
   "id": "fac7b9a7",
   "metadata": {},
   "outputs": [],
   "source": [
    "DATASET=\"Retina_0_0\"\n",
    "basepath = r\"C:\\Users\\Thibaut Goldsborough\\Documents\\Seth_BoneMarrow\\Data\\\\\" +DATASET\n",
    "outpath = basepath + \"\\\\Outputs\"\n",
    "\n",
    "df=pd.read_csv(outpath+\"\\cell_info1.csv\")  "
   ]
  },
  {
   "cell_type": "code",
   "execution_count": null,
   "id": "8e9ada22",
   "metadata": {},
   "outputs": [],
   "source": [
    "DATASET=\"Retina_0_0\"\n",
    "basepath = r\"C:\\Users\\Thibaut Goldsborough\\Documents\\Seth_BoneMarrow\\Data\\\\\" +DATASET\n",
    "outpath = basepath + \"\\\\Outputs\"\n",
    "\n",
    "df=pd.read_csv(outpath+\"\\cell_info1.csv\")    \n",
    "image_dim=64 #Dim of the final images\n",
    "channels=['Ch1']\n",
    "\n",
    "for n in range(int(len(df)/100/16)):\n",
    "\n",
    "    w=100  #Number of cells in X direction\n",
    "    h=16\n",
    "    for channel in channels:\n",
    "        my_img=np.load(outpath+\"\\\\\"+channel+'.npy')\n",
    "        my_tile=my_img[(n*h)*image_dim:((n+1)*h)*image_dim,:].copy()\n",
    "    my_tile=my_tile-my_tile[0,0]\n",
    "    print(my_tile.shape)\n",
    "\n",
    "    dpi = 75\n",
    "    myfig=plt.figure(figsize=(image_dim*w/100,image_dim*h/100),dpi=10)\n",
    "    plt.imshow(my_tile*2.5,vmin=-75,vmax=255,cmap=\"Greys\")   \n",
    "    #plt.colorbar()\n",
    "    plt.axis('off')\n",
    "    #plt.savefig(basepath+\"\\\\\"+DATASET+\"_tilingCh1.tiff\",bbox_inches=\"tight\",dpi=1000)\n",
    "    plt.imsave(basepath+\"\\\\\"+DATASET+\"_Ch1\"+str(n)+\".png\", arr=my_tile, cmap='Greys', format='png')\n",
    "    plt.show()\n",
    "    break\n"
   ]
  },
  {
   "cell_type": "code",
   "execution_count": null,
   "id": "41645c27",
   "metadata": {},
   "outputs": [],
   "source": [
    "np.shape(my_img)[0]/29"
   ]
  },
  {
   "cell_type": "code",
   "execution_count": null,
   "id": "bf79c094",
   "metadata": {},
   "outputs": [],
   "source": [
    "for DATASET in DATASETS:\n",
    "    basepath = r\"C:\\Users\\Thibaut Goldsborough\\Documents\\Seth_BoneMarrow\\Data\\\\\" +DATASET\n",
    "    outpath = basepath + \"\\\\Outputs\"\n",
    "    image_dim=64 #Dim of the final images\n",
    "    channels=['Ch1']\n",
    "    w=50  #Number of cells in X direction\n",
    "    h=50\n",
    "    for channel in channels:\n",
    "        my_img=np.load(outpath+\"\\\\\"+channel+'.npy')\n",
    "        my_tile=my_img[0*image_dim:w*image_dim+image_dim,0*image_dim:h*image_dim+image_dim].copy()\n",
    "    my_tile=my_tile-my_tile[0,0]\n",
    "\n",
    "    dpi = 75\n",
    "\n",
    "  \n",
    "    height, width = my_tile.shape\n",
    "\n",
    "# What size does the figure need to be in inches to fit the image?\n",
    "\n",
    "    \n",
    "    myfig=plt.figure(figsize=(image_dim*w/100,image_dim*h/100),dpi=10)\n",
    "    plt.imshow(my_tile*2.5,vmin=-75,vmax=255,cmap=\"Greys\")   \n",
    "    #plt.colorbar()\n",
    "    plt.axis('off')\n",
    "    #plt.savefig(basepath+\"\\\\\"+DATASET+\"_tilingCh1.tiff\",bbox_inches=\"tight\",dpi=1000)\n",
    "    plt.imsave(basepath+\"\\\\\"+DATASET+\"_tilingCh1.png\", arr=my_tile, cmap='Greys', format='png')\n",
    "    plt.show()\n"
   ]
  },
  {
   "cell_type": "code",
   "execution_count": null,
   "id": "9b847091",
   "metadata": {},
   "outputs": [],
   "source": [
    "height=[]\n",
    "width=[]\n",
    "focus=[]\n",
    "DNA=[]\n",
    "for DATASET in DATASETS:\n",
    "    basepath = r\"C:\\Users\\Thibaut Goldsborough\\Documents\\Seth_BoneMarrow\\Data\\\\\" +DATASET\n",
    "    outpath = basepath + \"\\\\Outputs\"\n",
    "\n",
    "    df=pd.read_csv(outpath+\"\\\\cell_info.csv\")\n",
    "    height+=list(df[\"X_length\"].to_numpy())\n",
    "    width+=list(df[\"Y_length\"].to_numpy())\n",
    "    DNA+=list(df[\"Intensity_MC_Ch07\"].to_numpy())\n",
    "    focus+=list(df[\"Gradient RMS_M01_Ch01\"].to_numpy())\n",
    "\n",
    "\n",
    "    "
   ]
  },
  {
   "cell_type": "code",
   "execution_count": null,
   "id": "3b67c042",
   "metadata": {},
   "outputs": [],
   "source": [
    "5000/len(DNA)"
   ]
  },
  {
   "cell_type": "code",
   "execution_count": null,
   "id": "4a3b4d3c",
   "metadata": {},
   "outputs": [],
   "source": [
    "np.mean(height)"
   ]
  },
  {
   "cell_type": "code",
   "execution_count": null,
   "id": "e96ba998",
   "metadata": {},
   "outputs": [],
   "source": [
    "np.mean(width)"
   ]
  },
  {
   "cell_type": "code",
   "execution_count": null,
   "id": "0f091d0c",
   "metadata": {},
   "outputs": [],
   "source": [
    "from matplotlib import cm\n",
    "plt.rc('text', usetex = False)\n",
    "plt.rc('font', family = 'serif')\n",
    "plt.rcParams['axes.labelsize'] = 20\n",
    "plt.rcParams['xtick.labelsize']=20\n",
    "plt.rcParams['ytick.labelsize']=20\n",
    "plt.rcParams['axes.titlesize'] =20\n",
    "plt.rc('font', size=15)  \n",
    "\n",
    "\n",
    "cmap='Spectral'\n",
    "xs = np.linspace(0.0, 1.0, 100)\n",
    "rgb1 = cm.get_cmap(cmap)(xs)[0][:-1]\n",
    "rgb2 = cm.get_cmap(cmap)(xs)[-7][:-1]\n",
    "rgb=[rgb1,rgb2][np.argmin([sum(rgb2),sum(rgb1)])] \n",
    "rgb_max=[rgb1,rgb2][np.argmax([sum(rgb2),sum(rgb1)])] \n",
    "\n",
    "fig, ((ax1, ax3),(ax2,ax4)) = plt.subplots(2, 2,figsize=(20,10))\n",
    "ax1.hist(height,bins=70,color=rgb);\n",
    "ax1.set_ylabel(\"Counts\")\n",
    "ax1.set_xlabel(\"Height (pixels)\")\n",
    "ax1.text(0.9, 0.9, '(a)', horizontalalignment='center',verticalalignment='center', transform=ax1.transAxes,fontsize=20)\n",
    "\n",
    "ax2.hist(width,bins=70,color=rgb);\n",
    "ax2.set_xlabel(\"Width (pixels)\")\n",
    "ax2.set_ylabel(\"Counts\")\n",
    "ax2.text(0.9, 0.9, '(b)', horizontalalignment='center',verticalalignment='center', transform=ax2.transAxes,fontsize=20)\n",
    "\n",
    "ax3.hist(focus,bins=200,color=rgb);\n",
    "ax3.axvline(x=50,color=rgb_max)\n",
    "ax3.set_xlabel(\"Gradient_RMS\")\n",
    "ax3.text(0.9, 0.9, '(c)', horizontalalignment='center',verticalalignment='center', transform=ax3.transAxes,fontsize=20)\n",
    "\n",
    "nuc_intensity_s=np.sort(DNA)\n",
    "ax4.hist(nuc_intensity_s[:-5000],bins=200,color=rgb);\n",
    "ax4.axvline(x=100000,color=rgb_max)\n",
    "ax4.set_xlabel(\"SYTO40 (DNA) Intensity\")\n",
    "ax4.text(0.9, 0.9, '(d)', horizontalalignment='center',verticalalignment='center', transform=ax4.transAxes,fontsize=20)\n",
    "\n",
    "plt.savefig(\"Data_processing.png\",bbox_inches=\"tight\",dpi=200)\n",
    "plt.show()"
   ]
  },
  {
   "cell_type": "code",
   "execution_count": null,
   "id": "a24bf1bc",
   "metadata": {},
   "outputs": [],
   "source": [
    "cmap='Spectral'\n",
    "xs = np.linspace(0.0, 1.0, 100)\n",
    "rgb1 = cm.get_cmap(cmap)(xs)[0][:-1]\n",
    "rgb2 = cm.get_cmap(cmap)(xs)[-7][:-1]\n",
    "rgb=[rgb1,rgb2][np.argmin([sum(rgb2),sum(rgb1)])] \n",
    "rgb_max=[rgb1,rgb2][np.argmax([sum(rgb2),sum(rgb1)])] "
   ]
  },
  {
   "cell_type": "code",
   "execution_count": null,
   "id": "d215c8e0",
   "metadata": {},
   "outputs": [],
   "source": [
    "l=0\n",
    "\n",
    "from Helper_functions import log_pol_scale,log_pol\n",
    "from matplotlib import cm\n",
    "plt.rc('text', usetex = False)\n",
    "plt.rc('font', family = 'serif')\n",
    "plt.rcParams['axes.labelsize'] = 20\n",
    "plt.rcParams['xtick.labelsize']=20\n",
    "plt.rcParams['ytick.labelsize']=20\n",
    "plt.rcParams['axes.titlesize'] =20\n",
    "plt.rc('font', size=15)  \n",
    "\n",
    "DATASET=\"retina_1_2\"\n",
    "basepath = r\"C:\\Users\\Thibaut Goldsborough\\Documents\\Seth_BoneMarrow\\Data\\\\\" +DATASET\n",
    "outpath = basepath + \"\\\\Outputs\"\n",
    "df=pd.read_csv(outpath+\"\\\\cell_info.csv\")\n",
    "\n",
    "labels=list(df[\"Intensity_MC_Ch11\"].to_numpy())\n",
    "\n",
    "fig, (ax1,ax2,ax3) = plt.subplots(1, 3,figsize=(20,7))\n",
    "nuc_intensity_s=np.sort(labels)\n",
    "\n",
    "ax1.hist(nuc_intensity_s[:-10000],bins=200,color=rgb);\n",
    "ax1.set_xlabel(\"Relative fluorescence\")\n",
    "ax1.set_ylabel(\"Count\")\n",
    "ax1.set_title(\"Raw fluorescence (cropped)\")\n",
    "ax1.text(0.9, 0.9, '(a)', horizontalalignment='center',verticalalignment='center', transform=ax1.transAxes,fontsize=20)\n",
    "\n",
    "labels2=log_pol(np.array(labels),slope=3,c=1000)\n",
    "ax2.hist(labels2,bins=200,color=rgb);\n",
    "ax2.set_xlabel(\"Relative fluorescence\")\n",
    "\n",
    "ax2.set_title(\"Scaling using f function\")\n",
    "ax2.text(0.9, 0.9, '(b)', horizontalalignment='center',verticalalignment='center', transform=ax2.transAxes,fontsize=20)\n",
    "\n",
    "labels=np.array(labels)\n",
    "ax3.hist(-np.log(-labels[labels<0]),bins=200,color=rgb);\n",
    "ax3.hist(np.log(labels[labels>0]),bins=200,color=rgb);\n",
    "ax3.set_xlabel(\"Relative fluorescence\")\n",
    "ax3.text(0.9, 0.9, '(c)', horizontalalignment='center',verticalalignment='center', transform=ax3.transAxes,fontsize=20)\n",
    "\n",
    "ax3.set_title(\"Scaling using 'log' function\")\n",
    "plt.savefig(\"scalings.png\",bbox_inches=\"tight\",dpi=200)"
   ]
  },
  {
   "cell_type": "code",
   "execution_count": null,
   "id": "1655a16b",
   "metadata": {},
   "outputs": [],
   "source": [
    "len(labels)"
   ]
  },
  {
   "cell_type": "code",
   "execution_count": null,
   "id": "25bd1421",
   "metadata": {},
   "outputs": [],
   "source": [
    "labels=np.array(labels)\n",
    "plt.hist(-np.log(-labels[labels<0]),bins=200);\n",
    "plt.hist(np.log(labels[labels>0]),bins=200);"
   ]
  },
  {
   "cell_type": "code",
   "execution_count": null,
   "id": "522e8148",
   "metadata": {},
   "outputs": [],
   "source": [
    "labels"
   ]
  },
  {
   "cell_type": "code",
   "execution_count": null,
   "id": "77a51524",
   "metadata": {},
   "outputs": [],
   "source": [
    "from Helper_functions import log_pol_scale,log_pol\n",
    "\n",
    "labels2=log_pol_scale(np.array(labels).reshape(len(labels),1),slope=3,c=0.01).copy()\n",
    "fig=plt.figure(figsize=(7,7))\n",
    "plt.hist(labels2,bins=200);\n",
    "plt.show()"
   ]
  },
  {
   "cell_type": "code",
   "execution_count": null,
   "id": "63e5bda1",
   "metadata": {},
   "outputs": [],
   "source": [
    "(log_pol(np.array([100000]),1,1000)-6.21703)/1.7187"
   ]
  },
  {
   "cell_type": "code",
   "execution_count": null,
   "id": "922418c5",
   "metadata": {},
   "outputs": [],
   "source": [
    "labels=(logs-6.21703)/1.7187"
   ]
  },
  {
   "cell_type": "code",
   "execution_count": null,
   "id": "cdc6793d",
   "metadata": {},
   "outputs": [],
   "source": []
  },
  {
   "cell_type": "code",
   "execution_count": null,
   "id": "b9f18fe8",
   "metadata": {},
   "outputs": [],
   "source": []
  },
  {
   "cell_type": "code",
   "execution_count": null,
   "id": "87bfee62",
   "metadata": {},
   "outputs": [],
   "source": [
    "for DATASET in DATASETS:\n",
    "    basepath = r\"C:\\Users\\Thibaut Goldsborough\\Documents\\Seth_BoneMarrow\\Data\\\\\" +DATASET\n",
    "    outpath = basepath + \"\\\\Outputs\"\n",
    "    image_dim=64 #Dim of the final images\n",
    "    channels=['Ch1']\n",
    "    w=25  #Number of cells in X direction\n",
    "    h=25\n",
    "    for channel in channels:\n",
    "        my_img=np.load(outpath+\"\\\\\"+channel+'.npy')\n",
    "        my_tile=my_img[0*image_dim:w*image_dim+image_dim,0*image_dim:h*image_dim+image_dim].copy()\n",
    "    my_tile=my_tile-my_tile[0,0]\n",
    "    \n",
    "    myfig=plt.figure(figsize=(10,10),dpi=300)\n",
    "    plt.imshow(my_tile*2.5,vmin=-75,vmax=255,cmap=\"Greys\")   \n",
    "    #plt.colorbar()\n",
    "    plt.axis('off')\n",
    "    #plt.savefig(basepath+\"\\\\\"+DATASET+\"_tiling.png\",bbox_inches=\"tight\")\n",
    "    plt.show()"
   ]
  },
  {
   "cell_type": "code",
   "execution_count": null,
   "id": "b6d63a28",
   "metadata": {},
   "outputs": [],
   "source": [
    "ims=np.load(r\"C:\\Users\\Thibaut Goldsborough\\Documents\\Seth_BoneMarrow\\HEROKU_Atlas\\DATA1\\Images_Ch1.npy\")\n",
    "df=pd.read_csv(r\"C:\\Users\\Thibaut Goldsborough\\Documents\\Seth_BoneMarrow\\HEROKU_Atlas\\DATA1\\Barlow_latents104.csv\")"
   ]
  },
  {
   "cell_type": "code",
   "execution_count": null,
   "id": "3486c002",
   "metadata": {},
   "outputs": [],
   "source": [
    "DATA=df[\"Dataset\"].to_numpy()\n",
    "BM=ims[DATA==\"BoneMarrow_sample1\"]"
   ]
  },
  {
   "cell_type": "code",
   "execution_count": null,
   "id": "c3c1e296",
   "metadata": {},
   "outputs": [],
   "source": [
    "\n",
    "plt.rc('text', usetex = False)\n",
    "plt.rc('font', family = 'serif')\n",
    "plt.rcParams['axes.labelsize'] = 20\n",
    "plt.rcParams['xtick.labelsize']=20\n",
    "plt.rcParams['ytick.labelsize']=20\n",
    "plt.rcParams['axes.titlesize'] =20\n",
    "plt.rc('font', size=15)  \n",
    "\n",
    "DATASETS=[\"BoneMarrow_sample1\",\"Retina_1_2\",\"Colon\",\"Choroid\"]\n",
    "ims=np.load(r\"C:\\Users\\Thibaut Goldsborough\\Documents\\Seth_BoneMarrow\\HEROKU_Atlas\\DATA1\\Images_Ch1.npy\")\n",
    "df=pd.read_csv(r\"C:\\Users\\Thibaut Goldsborough\\Documents\\Seth_BoneMarrow\\HEROKU_Atlas\\DATA1\\Barlow_latents104.csv\")\n",
    "DATA=df[\"Dataset\"].to_numpy()\n",
    "\n",
    "for kk,DATASET in enumerate(DATASETS):\n",
    "    BM=ims[DATA==DATASET].copy()\n",
    "    n=20\n",
    "    l=3\n",
    "    for i in range(l):\n",
    "        for j in range(n):\n",
    "            if j==0:\n",
    "                col_array=BM[i*n]\n",
    "            else:\n",
    "                col_array=np.hstack((col_array,BM[i*n+j]))\n",
    "        if i==0:\n",
    "            row_array=col_array\n",
    "        else:\n",
    "            row_array=np.vstack((row_array,col_array))\n",
    "    if kk==0:\n",
    "        my_array=row_array\n",
    "        my_array=np.vstack((my_array,np.zeros(np.shape(row_array[0]))+250))\n",
    "        my_array=np.vstack((my_array,np.zeros(np.shape(row_array[0]))+250))\n",
    "    else:\n",
    "        my_array=np.vstack((my_array,row_array))\n",
    "        if kk!=len(DATASETS)-1:\n",
    "          my_array=np.vstack((my_array,np.zeros(np.shape(row_array[0]))+250))\n",
    "          my_array=np.vstack((my_array,np.zeros(np.shape(row_array[0]))+250))\n",
    "gig,ax=plt.subplots(figsize=(30,10))\n",
    "y_label_list = ['Bone Marrow', 'Retina', 'Colon', 'Choroid']\n",
    "\n",
    "ax.set_yticks([100,300,500,700])\n",
    "ax.set_xticks([])\n",
    "\n",
    "ax.set_yticklabels(y_label_list)\n",
    "plt.imshow(my_array,cmap=\"Greys\")\n",
    "plt.savefig(\"tiling_sample.png\",bbox_inches=\"tight\",dpi=200)\n"
   ]
  },
  {
   "cell_type": "code",
   "execution_count": null,
   "id": "77efd84e",
   "metadata": {},
   "outputs": [],
   "source": []
  }
 ],
 "metadata": {
  "interpreter": {
   "hash": "96e92283253362575e1b2577a58171a1def071c2d4840c376515c402fb1735d8"
  },
  "kernelspec": {
   "display_name": "Python 3.9.7 ('deep_learning')",
   "language": "python",
   "name": "python3"
  },
  "language_info": {
   "codemirror_mode": {
    "name": "ipython",
    "version": 3
   },
   "file_extension": ".py",
   "mimetype": "text/x-python",
   "name": "python",
   "nbconvert_exporter": "python",
   "pygments_lexer": "ipython3",
   "version": "3.9.7"
  }
 },
 "nbformat": 4,
 "nbformat_minor": 5
}
