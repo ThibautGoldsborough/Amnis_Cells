{
 "cells": [
  {
   "cell_type": "code",
   "execution_count": null,
   "id": "37c43658",
   "metadata": {},
   "outputs": [],
   "source": [
    "#Import required packages\n",
    "import cv2 as cv\n",
    "import os\n",
    "import matplotlib.pyplot as plt\n",
    "import numpy as np\n",
    "import pandas as pd\n",
    "import plotly.io as pio\n",
    "\n"
   ]
  },
  {
   "cell_type": "code",
   "execution_count": null,
   "id": "450e333a",
   "metadata": {},
   "outputs": [],
   "source": [
    "#Insert filepath for local files  FOR THIBAUT\n",
    "basepath = r\"C:\\Users\\Thibaut Goldsborough\\Documents\\Seth_BoneMarrow\\Data\\BoneMarrow_unstained4\"\n",
    "readpath = basepath + \"\\\\Raw_Images\"\n",
    "outpath = basepath + \"\\\\Outputs\"\n",
    "file_prefix=\"\\\\unstained_\"\n",
    "maskpath=basepath+\"\\\\ExportedMasks\"\n",
    "\n",
    "num_images=10000\n",
    "\n",
    "image_dim=64 #Dim of the final images"
   ]
  },
  {
   "cell_type": "code",
   "execution_count": null,
   "id": "17621b8b",
   "metadata": {},
   "outputs": [],
   "source": [
    "#Insert filepath for local files  FOR THIBAUT\n",
    "basepath = r\"C:\\Users\\Thibaut Goldsborough\\Documents\\Seth_BoneMarrow\\Data\\BoneMarrow_smallerfile2\"\n",
    "readpath = basepath + \"\\\\Raw_Images\"\n",
    "outpath = basepath + \"\\\\Outputs\"\n",
    "file_prefix=\"\\\\smaller_file2_\"\n",
    "maskpath=basepath+\"\\\\ExportedMasks\"\n",
    "\n",
    "num_images=10000\n",
    "\n",
    "image_dim=64 #Dim of the final images"
   ]
  },
  {
   "cell_type": "code",
   "execution_count": null,
   "id": "3c311c13",
   "metadata": {},
   "outputs": [],
   "source": [
    "#Insert filepath for local files  FOR THIBAUT\n",
    "basepath = r\"C:\\Users\\Thibaut Goldsborough\\Documents\\Seth_BoneMarrow\\Data\\BoneMarrow_sample1\"\n",
    "readpath = basepath + \"\\\\Raw_Images\"\n",
    "outpath = basepath + \"\\\\Outputs\"\n",
    "file_prefix=\"\\\\sample1_\"\n",
    "maskpath=basepath+\"\\\\ExportedMasks\"\n",
    "\n",
    "\n",
    "\n",
    "image_dim=64 #Dim of the final images\n",
    "\n",
    "nuclear_channel=\"Ch7\"\n",
    "cellmask_channel=\"Ch1_mask\""
   ]
  },
  {
   "cell_type": "code",
   "execution_count": null,
   "id": "c7399e0f",
   "metadata": {},
   "outputs": [],
   "source": [
    "#Find cell names\n",
    "cell_names=np.load(outpath+\"\\\\image_ID.npy\")\n",
    "cell_names=[int(cell_name) for cell_name in cell_names]\n",
    "image_dict={}\n",
    "\n",
    "for cell_name in cell_names:\n",
    "    image_dict[cell_name]={}\n",
    "\n",
    "\n",
    "#Find Channels\n",
    "names=[]\n",
    "for entry in os.listdir(outpath): #Read all files\n",
    "    if os.path.isfile(os.path.join(outpath, entry)):\n",
    "        if entry!='image_ID.npy':\n",
    "            names.append(entry)\n",
    "\n",
    "\n",
    "channels=[name[:-4] for name in names if name[-4:]=='.npy']\n",
    "\n",
    "print(\"Channels found:\",channels)\n",
    "\n",
    "data_dict={}\n",
    "for channel in channels:\n",
    "    data_dict[channel]=np.load(outpath+\"\\\\\"+channel+'.npy')\n",
    "\n",
    "#Break up array\n",
    "\n",
    "for channel in data_dict:\n",
    "    dims=data_dict[channel].shape\n",
    "    n=dims[0]//image_dim\n",
    "    l=dims[1]//image_dim\n",
    "    index=0\n",
    "    for i in range(n):\n",
    "        for j in range(l):\n",
    "            img=data_dict[channel][i*image_dim:i*image_dim+image_dim,j*image_dim:j*image_dim+image_dim]\n",
    "            image_dict[cell_names[index]][channel]=img\n",
    "            index+=1\n",
    "\n"
   ]
  },
  {
   "cell_type": "code",
   "execution_count": null,
   "id": "e8c2d211",
   "metadata": {},
   "outputs": [],
   "source": [
    "channels=['Ch1',\n",
    " 'Ch11',\n",
    " 'Ch2',\n",
    " 'Ch3',\n",
    " 'Ch7']"
   ]
  },
  {
   "cell_type": "code",
   "execution_count": null,
   "id": "61512235",
   "metadata": {},
   "outputs": [],
   "source": [
    "df=pd.read_csv(outpath+\"\\\\cell_info.csv\")"
   ]
  },
  {
   "cell_type": "code",
   "execution_count": null,
   "id": "6027edc6",
   "metadata": {},
   "outputs": [],
   "source": [
    "df"
   ]
  },
  {
   "cell_type": "code",
   "execution_count": null,
   "id": "f55c087f",
   "metadata": {},
   "outputs": [],
   "source": [
    "ch11=[]\n",
    "ch2=[]\n",
    "ch3=[]\n",
    "ch7=[]\n",
    "for cell in df['Cell_ID'].to_numpy():\n",
    "    \n",
    "\n",
    "    \n",
    "\n"
   ]
  },
  {
   "cell_type": "code",
   "execution_count": null,
   "id": "e4d844b6",
   "metadata": {},
   "outputs": [],
   "source": [
    "df[df['Cell_ID']==i]"
   ]
  },
  {
   "cell_type": "code",
   "execution_count": null,
   "id": "bd750383",
   "metadata": {},
   "outputs": [],
   "source": [
    "i=7503\n",
    "d_img=image_dict[i]['Ch1']\n",
    "for channel in channels[1:]:\n",
    "    d_img=np.hstack((d_img,image_dict[i][channel]))\n",
    "plt.imshow(d_img)\n",
    "df[df['Cell_ID']==i]"
   ]
  },
  {
   "cell_type": "code",
   "execution_count": null,
   "id": "c447ff6a",
   "metadata": {},
   "outputs": [],
   "source": [
    "for i in range(100):\n",
    "    d_img=image_dict[cell_names[i]]['Ch1']\n",
    "    for channel in channels[1:]:\n",
    "        d_img=np.hstack((d_img,image_dict[cell_names[i]][channel]))\n",
    "    if i ==0:\n",
    "        display_img=d_img\n",
    "    else:\n",
    "        display_img=np.vstack((display_img,d_img))\n",
    "\n",
    "plt.figure(figsize=(10,10))\n",
    "plt.imshow(display_img)\n",
    "plt.axis('off')\n",
    "    "
   ]
  },
  {
   "cell_type": "code",
   "execution_count": null,
   "id": "a273cdb9",
   "metadata": {},
   "outputs": [],
   "source": [
    "#Read in images\n",
    "names=[]\n",
    "for entry in os.listdir(readpath): #Read all photos\n",
    "    if os.path.isfile(os.path.join(readpath, entry)):\n",
    "        names.append(entry)\n",
    "       # if len(names)>=num_images*3:\n",
    "        #    break\n",
    "\n",
    "channel_names=[channel_name[:-8] for channel_name in np.unique([name.split(\"_\")[file_prefix.count(\"_\")+1] for name in names])] \n",
    "\n",
    "print(\"Found\",len(channel_names),\"channels\")\n",
    "print(channel_names)\n",
    "\n",
    "data_dict={}\n",
    "for name in names:\n",
    "    cell_num=name.split(\"_\")[file_prefix.count(\"_\")]\n",
    "    if cell_num not in data_dict.keys():\n",
    "        data_dict[cell_num]=[cv.imread(readpath+file_prefix+cell_num+'_'+channel_name+'.ome.tif',0  | cv.IMREAD_ANYDEPTH) for channel_name in channel_names]\n",
    "        data_dict[cell_num]+=[cv.imread(maskpath+file_prefix+cell_num+'_'+channel_name+'.dmask.pgm',0 ) for channel_name in channel_names]\n",
    "\n",
    "#13s"
   ]
  },
  {
   "cell_type": "code",
   "execution_count": null,
   "id": "ec01b9ae",
   "metadata": {},
   "outputs": [],
   "source": [
    "plt.imshow(data_dict['0'][7])"
   ]
  },
  {
   "cell_type": "code",
   "execution_count": null,
   "id": "3e4c5e1f",
   "metadata": {},
   "outputs": [],
   "source": [
    "np.max(data_dict['0'][7])"
   ]
  },
  {
   "cell_type": "code",
   "execution_count": null,
   "id": "38735378",
   "metadata": {},
   "outputs": [],
   "source": [
    "#Method 1 is based on the maximal fluorescent pixel\n",
    "\n",
    "#Extract fluorescent features\n",
    "\n",
    "features=np.zeros((len(cell_names),4))\n",
    "for i,cells in enumerate(data_dict):\n",
    "    features[i][0]=cells\n",
    "    features[i][1]=0+np.max(data_dict[cells][2])#[data_dict[cells][7+2]==255]) #FITC very few pos\n",
    "    features[i][2]=0+np.max(data_dict[cells][3])#[data_dict[cells][7+2]==255]) #PE  very few pos\n",
    "    features[i][3]=0+np.max(data_dict[cells][1])#[data_dict[cells][7+2]==255]) #APC  60% pos\n",
    "\n",
    "features_t=features>=120\n",
    "colors=[]\n",
    "for i in features_t:\n",
    "    if sum(i[1:])==1:\n",
    "        if i[1]==1:\n",
    "            colors.append(\"FITC (Smooth Muscle Actin)\")\n",
    "        if i[2]==1:\n",
    "            colors.append(\"PE (Stromal cells)\")\n",
    "        if i[3]==1:\n",
    "            colors.append(\"APC (CD45)\")\n",
    "    else:\n",
    "        colors.append(\"Other cell type\")\n",
    "\n",
    "features_relative=features[:,1:]\n",
    "import plotly.express as px\n",
    "fig = px.scatter_3d(x=features_relative[:,0],y=features_relative[:,1],z=features_relative[:,2],width=1000, height=1000,color=colors)\n",
    "\n",
    "fig.update_layout(scene = dict(\n",
    "                    xaxis_title='FITC',\n",
    "                    yaxis_title='PE',\n",
    "                    zaxis_title='APC'))\n",
    "\n",
    "fig.update_layout(scene_aspectmode='manual',\n",
    "                  scene_aspectratio=dict(x=0.3*2, y=0.2*2, z=0.8*2))\n",
    "\n",
    "fig.update_traces(marker_size =2)\n",
    "#fig.update_layout(scene_aspectmode='cube')\n",
    "\n",
    "pio.renderers.default = \"notebook\"\n",
    "fig.show()\n",
    "#fig.write_html(outpath+\"\\\\gating.html\")"
   ]
  },
  {
   "cell_type": "code",
   "execution_count": null,
   "id": "d5796c72",
   "metadata": {},
   "outputs": [],
   "source": [
    "my_dict={}\n",
    "my_dict[\"FITC (Smooth Muscle Actin)\"]=1\n",
    "my_dict['APC (CD45)']=2\n",
    "my_dict['PE (Stromal cells)']=3\n",
    "my_dict['Other cell type']=0"
   ]
  },
  {
   "cell_type": "code",
   "execution_count": null,
   "id": "ea882f4a",
   "metadata": {},
   "outputs": [],
   "source": [
    "a=[1,2,3,9,0]"
   ]
  },
  {
   "cell_type": "code",
   "execution_count": null,
   "id": "67fb0bed",
   "metadata": {},
   "outputs": [],
   "source": [
    "b=np.max(np.delete(a,3))"
   ]
  },
  {
   "cell_type": "code",
   "execution_count": null,
   "id": "32b853ed",
   "metadata": {},
   "outputs": [],
   "source": [
    "i"
   ]
  },
  {
   "cell_type": "code",
   "execution_count": null,
   "id": "6ec09e5f",
   "metadata": {},
   "outputs": [],
   "source": [
    "#method 2 is based on the N maximal pixel intensities\n",
    "\n",
    "#Extract fluorescent features\n",
    "threshold=10  #Select the n brightest pixels of the image\n",
    "\n",
    "\n",
    "features=np.zeros((len(cell_names),4))\n",
    "for i,cells in enumerate(data_dict):\n",
    "    features[i][0]=cells\n",
    "    features[i][1]=np.mean(np.sort(data_dict[cells][2],axis=None)[-threshold:]) #FITC very few pos\n",
    "    features[i][2]=np.mean(np.sort(data_dict[cells][3],axis=None)[-threshold:]) #PE  very few pos\n",
    "    features[i][3]=np.mean(np.sort(data_dict[cells][1],axis=None)[-threshold:]) #APC  60% pos\n",
    "\n",
    "features_t=features#>=120\n",
    "colors=[]\n",
    "for i in features_t:\n",
    "    i=i[1:]\n",
    "\n",
    "    n=np.argmax(i)\n",
    "    colors_str=[\"Other cell type\",\"FITC (Smooth Muscle Actin)\",\"PE (Stromal cells)\",\"APC (CD45)\"]\n",
    "\n",
    "    if i[n]>=150:\n",
    "        if i[n]/np.sum(i)>0.45:\n",
    "            colors.append(colors_str[n+1])\n",
    "        else:\n",
    "            colors.append(colors_str[0])\n",
    "    else:\n",
    "        colors.append(colors_str[0])\n",
    "\n",
    "\n",
    "features_relative=features[:,1:]\n",
    "import plotly.express as px\n",
    "fig = px.scatter_3d(x=features_relative[:,0],y=features_relative[:,1],z=features_relative[:,2],width=1000, height=1000,color=colors)\n",
    "\n",
    "fig.update_layout(scene = dict(\n",
    "                    xaxis_title='FITC',\n",
    "                    yaxis_title='PE',\n",
    "                    zaxis_title='APC'))\n",
    "\n",
    "#fig.update_layout(scene_aspectmode='manual',\n",
    " #                 scene_aspectratio=dict(x=0.3*2, y=0.2*2, z=0.8*2))\n",
    "\n",
    "fig.update_traces(marker_size =2)\n",
    "#fig.update_layout(scene_aspectmode='cube')\n",
    "\n",
    "pio.renderers.default = \"notebook\"\n",
    "fig.show()\n",
    "fig.write_html(outpath+\"\\\\gating.html\")"
   ]
  },
  {
   "cell_type": "code",
   "execution_count": null,
   "id": "92e7251e",
   "metadata": {},
   "outputs": [],
   "source": [
    "BUGS=[]\n",
    "for image in data_dict:\n",
    "    for i in data_dict[image]:\n",
    "      #  print(i)\n",
    "        try: \n",
    "            if i==None:\n",
    "                BUGS.append(image)\n",
    "        except:\n",
    "            pass"
   ]
  },
  {
   "cell_type": "code",
   "execution_count": null,
   "id": "fc73d0cb",
   "metadata": {},
   "outputs": [],
   "source": [
    "[data_dict.pop(BUG) for BUG in BUGS]"
   ]
  },
  {
   "cell_type": "code",
   "execution_count": null,
   "id": "bd8fb945",
   "metadata": {},
   "outputs": [],
   "source": [
    "df=pd.read_csv(outpath+\"\\\\cell_info.csv\")\n",
    "df['Cell_ID2']=list(data_dict.keys())[:len(df)]\n",
    "df['Cell_Type']=[my_dict[color] for color in colors][:len(df)]\n",
    "df['Cell_Type_str']=colors[:len(df)]\n",
    "df.to_csv(outpath+\"\\\\cell_info.csv\")"
   ]
  },
  {
   "cell_type": "code",
   "execution_count": null,
   "id": "46cf9cca",
   "metadata": {},
   "outputs": [],
   "source": [
    "\n",
    "plt.imshow(data_dict[cells][2])\n",
    "plt.colorbar()\n",
    "plt.show()\n",
    "plt.imshow(data_dict[cells][3])\n",
    "plt.colorbar()\n",
    "plt.show()\n",
    "plt.imshow(data_dict[cells][1])\n",
    "plt.colorbar()\n",
    "plt.show()\n",
    "\n",
    "\n"
   ]
  },
  {
   "cell_type": "code",
   "execution_count": null,
   "id": "519a87b6",
   "metadata": {},
   "outputs": [],
   "source": [
    "features_t=features>=100"
   ]
  },
  {
   "cell_type": "code",
   "execution_count": null,
   "id": "2988334b",
   "metadata": {},
   "outputs": [],
   "source": [
    "colors=[]\n",
    "for i in features_t:\n",
    "    if sum(i[1:])==1:\n",
    "        if i[1]==1:\n",
    "            colors.append(\"red\")\n",
    "        if i[2]==1:\n",
    "            colors.append(\"black\")\n",
    "        if i[3]==1:\n",
    "            colors.append(\"green\")\n",
    "    else:\n",
    "        colors.append(\"blue\")"
   ]
  },
  {
   "cell_type": "code",
   "execution_count": null,
   "id": "d6aced04",
   "metadata": {},
   "outputs": [],
   "source": [
    "features[:,1]-=np.min(features[:,1])\n",
    "features[:,2]-=np.min(features[:,2])\n",
    "features[:,3]-=np.min(features[:,3])\n"
   ]
  },
  {
   "cell_type": "code",
   "execution_count": null,
   "id": "d0fc194f",
   "metadata": {},
   "outputs": [],
   "source": [
    "print(features)"
   ]
  },
  {
   "cell_type": "code",
   "execution_count": null,
   "id": "15f97d3e",
   "metadata": {},
   "outputs": [],
   "source": [
    "plt.hist(features[:,1],bins=100);"
   ]
  },
  {
   "cell_type": "code",
   "execution_count": null,
   "id": "54564bd1",
   "metadata": {},
   "outputs": [],
   "source": [
    "plt.hist(features[:,2],bins=100);"
   ]
  },
  {
   "cell_type": "code",
   "execution_count": null,
   "id": "0e03e634",
   "metadata": {},
   "outputs": [],
   "source": [
    "plt.hist(features[:,3],bins=100);"
   ]
  },
  {
   "cell_type": "code",
   "execution_count": null,
   "id": "d2c707be",
   "metadata": {},
   "outputs": [],
   "source": []
  },
  {
   "cell_type": "code",
   "execution_count": null,
   "id": "9dc09b0e",
   "metadata": {},
   "outputs": [],
   "source": [
    "features[:,1]/=np.mean(features[:,1:],axis=1)\n",
    "features[:,2]/=np.mean(features[:,1:],axis=1)\n",
    "features[:,3]/=np.mean(features[:,1:],axis=1)"
   ]
  },
  {
   "cell_type": "code",
   "execution_count": null,
   "id": "1915dbe8",
   "metadata": {},
   "outputs": [],
   "source": [
    "np.mean(features[:,1:],axis=0).shape"
   ]
  },
  {
   "cell_type": "code",
   "execution_count": null,
   "id": "be4a9204",
   "metadata": {},
   "outputs": [],
   "source": [
    "features_relative=features[:,1:]\n",
    "#features_relative[:,0]/=np.sum(features[:,1:],axis=1)\n",
    "#features_relative[:,1]/=np.sum(features[:,1:],axis=1)\n",
    "#eatures_relative[:,2]/=np.sum(features[:,1:],axis=1)\n"
   ]
  },
  {
   "cell_type": "code",
   "execution_count": null,
   "id": "1dfbf7c9",
   "metadata": {},
   "outputs": [],
   "source": [
    "plt.scatter(features_relative[:,0],features_relative[:,1],s=0.1)"
   ]
  },
  {
   "cell_type": "code",
   "execution_count": null,
   "id": "e65f7ad6",
   "metadata": {},
   "outputs": [],
   "source": [
    "plt.scatter(features_relative[:,0],features_relative[:,2],s=0.1)"
   ]
  },
  {
   "cell_type": "code",
   "execution_count": null,
   "id": "db4d7acf",
   "metadata": {},
   "outputs": [],
   "source": [
    "plt.scatter(features_relative[:,1],features_relative[:,2],s=0.1)"
   ]
  },
  {
   "cell_type": "code",
   "execution_count": null,
   "id": "bd63342f",
   "metadata": {},
   "outputs": [],
   "source": [
    "plt.hist(np.sum(features[:,1:],axis=1).reshape(10000,1),bins=100);"
   ]
  },
  {
   "cell_type": "code",
   "execution_count": null,
   "id": "ebec7d91",
   "metadata": {},
   "outputs": [],
   "source": [
    "import plotly.express as px\n",
    "fig = px.scatter_3d(x=features_relative[:,0],y=features_relative[:,1],z=features_relative[:,2],width=1000, height=1000,color=colors)\n",
    "\n",
    "fig.update_layout(scene = dict(\n",
    "                    xaxis_title='FITC',\n",
    "                    yaxis_title='PE',\n",
    "                    zaxis_title='APC'))\n",
    "\n",
    "fig.update_layout(scene_aspectmode='manual',\n",
    "                  scene_aspectratio=dict(x=0.3*2, y=0.2*2, z=0.8*2))\n",
    "\n",
    "fig.update_traces(marker_size =2)\n",
    "#fig.update_layout(scene_aspectmode='cube')\n",
    "\n",
    "pio.renderers.default = \"notebook\"\n",
    "fig.show()\n",
    "fig.write_html(outpath+\"\\\\gating.html\")"
   ]
  },
  {
   "cell_type": "code",
   "execution_count": null,
   "id": "d92b5356",
   "metadata": {},
   "outputs": [],
   "source": [
    "for i in df[df[\"Cell_Type\"]==3]['Cell_ID']:\n",
    "    plt.imshow(image_dict[i]['Ch6'],vmin=-50,vmax=50)\n",
    "    plt.colorbar()\n",
    "    plt.show()"
   ]
  },
  {
   "cell_type": "code",
   "execution_count": null,
   "id": "3e6c504d",
   "metadata": {},
   "outputs": [],
   "source": [
    "df"
   ]
  },
  {
   "cell_type": "code",
   "execution_count": null,
   "id": "dfc1dc7e",
   "metadata": {},
   "outputs": [],
   "source": []
  }
 ],
 "metadata": {
  "interpreter": {
   "hash": "96e92283253362575e1b2577a58171a1def071c2d4840c376515c402fb1735d8"
  },
  "kernelspec": {
   "display_name": "Python 3.9.7 ('deep_learning')",
   "language": "python",
   "name": "python3"
  },
  "language_info": {
   "codemirror_mode": {
    "name": "ipython",
    "version": 3
   },
   "file_extension": ".py",
   "mimetype": "text/x-python",
   "name": "python",
   "nbconvert_exporter": "python",
   "pygments_lexer": "ipython3",
   "version": "3.9.7"
  }
 },
 "nbformat": 4,
 "nbformat_minor": 5
}
