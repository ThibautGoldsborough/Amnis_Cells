{
 "cells": [
  {
   "cell_type": "code",
   "execution_count": null,
   "metadata": {},
   "outputs": [],
   "source": [
    "#Import required packages\n",
    "import cv2 as cv\n",
    "import os\n",
    "import matplotlib.pyplot as plt\n",
    "import numpy as np\n",
    "import pandas as pd\n",
    "import cv2 as cv\n",
    "import numpy as np\n",
    "import pandas as pd\n",
    "from Helper_functions import interactive_session, load_dict, make_tile\n",
    "import umap\n",
    "\n",
    "#Insert filepath for local files  FOR THIBAUT\n",
    "basepath = r\"C:\\Users\\Thibaut Goldsborough\\Documents\\Seth_BoneMarrow\\Data\\BoneMarrow_smallerfile2\"\n",
    "readpath = basepath + \"\\\\Raw_Images\"\n",
    "outpath = basepath + \"\\\\Outputs\"\n",
    "image_dim=64 #Dim of the final images\n",
    "nuclear_channel=\"Ch7\"\n",
    "cellmask_channel=\"Ch1_mask\"\n",
    "\n",
    "df=pd.read_csv(outpath+\"\\\\cell_info.csv\")\n",
    "cell_names=df[\"Cell_ID\"].to_numpy()\n",
    "\n",
    "Channels=['Ch1']  #Channel to be fed to the NN\n",
    "\n",
    "image_dict=load_dict(outpath,cell_names,image_dim)\n",
    "images_with_index = []\n",
    "for image_i in image_dict:\n",
    "    image=cv.merge([image_dict[image_i][i] for i in Channels])\n",
    "    images_with_index.append((int(image_i),image))\n",
    "    \n",
    "images=np.array([image[1] for image in images_with_index])\n",
    "names=np.array([image[0] for image in images_with_index])\n",
    "labels=df['Cell_Type'].to_numpy()\n",
    "assert sum(names!=df['Cell_ID'].to_numpy()) ==0  #Check that the order has been preserved\n",
    "DNA_pos=df[\"DNA_pos\"].to_numpy()\n",
    "Touches_Boundary=df[\"Touches_boundary\"].to_numpy()\n",
    "labels=df['Cell_Type'].to_numpy()\n",
    "\n",
    "latent_df=pd.read_csv(basepath+\"\\\\Results\\\\\"+\"BYOLtensor(-0.9817).csv\")\n",
    "namesdf=latent_df[\"Cell_ID\"].to_numpy()\n",
    "display_images=[image_dict[int(i)]['Ch1'] for i in namesdf]\n",
    "barlow=latent_df.drop(\"Cell_ID\",axis=1).to_numpy()\n",
    "labelsdf=[labels[np.where(names==int(i))] for i in namesdf]\n",
    "\n",
    "colors=[]\n",
    "for label in labelsdf:\n",
    "    if int(label)==0:\n",
    "        colors.append('red')\n",
    "    elif int(label)==2:\n",
    "        colors.append('blue')\n"
   ]
  },
  {
   "cell_type": "code",
   "execution_count": null,
   "metadata": {},
   "outputs": [],
   "source": [
    "fit = umap.UMAP(n_components=2)\n",
    "u = fit.fit_transform(barlow)\n",
    "interactive_session(u,display_images,colors,namesdf)\n"
   ]
  },
  {
   "cell_type": "code",
   "execution_count": null,
   "metadata": {},
   "outputs": [],
   "source": [
    "fit = umap.UMAP(n_components=3)\n",
    "u = fit.fit_transform(barlow)\n",
    "interactive_session(u,display_images,colors,namesdf)\n"
   ]
  },
  {
   "cell_type": "code",
   "execution_count": null,
   "metadata": {},
   "outputs": [],
   "source": [
    "fit = umap.UMAP(n_components=1)\n",
    "u = fit.fit_transform(barlow)\n",
    "make_tile(display_images=display_images,u=u,n=100,savepath=False)"
   ]
  }
 ],
 "metadata": {
  "interpreter": {
   "hash": "96e92283253362575e1b2577a58171a1def071c2d4840c376515c402fb1735d8"
  },
  "kernelspec": {
   "display_name": "Python 3.9.7 ('deep_learning')",
   "language": "python",
   "name": "python3"
  },
  "language_info": {
   "codemirror_mode": {
    "name": "ipython",
    "version": 3
   },
   "file_extension": ".py",
   "mimetype": "text/x-python",
   "name": "python",
   "nbconvert_exporter": "python",
   "pygments_lexer": "ipython3",
   "version": "3.9.7"
  },
  "orig_nbformat": 4
 },
 "nbformat": 4,
 "nbformat_minor": 2
}
