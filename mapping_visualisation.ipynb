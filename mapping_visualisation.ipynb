{
 "cells": [
  {
   "cell_type": "code",
   "execution_count": null,
   "metadata": {},
   "outputs": [],
   "source": [
    "#Import required packages\n",
    "import cv2 as cv\n",
    "import numpy as np\n",
    "import pandas as pd\n",
    "import cv2 as cv\n",
    "import numpy as np\n",
    "import pandas as pd\n",
    "from Helper_functions import interactive_session, load_dict, make_tile\n",
    "import umap\n",
    "\n",
    "#Insert filepath for local files  FOR THIBAUT\n",
    "basepath = r\"C:\\Users\\Thibaut Goldsborough\\Documents\\Seth_BoneMarrow\\Data\\BoneMarrow_smallerfile2\"\n",
    "readpath = basepath + \"\\\\Raw_Images\"\n",
    "outpath = basepath + \"\\\\Outputs\"\n",
    "image_dim=64 #Dim of the final images\n",
    "nuclear_channel=\"Ch7\"\n",
    "cellmask_channel=\"Ch1_mask\"\n",
    "\n",
    "df=pd.read_csv(outpath+\"\\\\cell_info.csv\")\n",
    "cell_names=df[\"Cell_ID\"].to_numpy()\n",
    "\n",
    "Channels=['Ch1']  #Channel to be fed to the NN\n",
    "\n",
    "image_dict=load_dict(outpath,cell_names,image_dim)\n",
    "images_with_index = []\n",
    "for image_i in image_dict:\n",
    "    image=cv.merge([image_dict[image_i][i] for i in Channels])\n",
    "    images_with_index.append((int(image_i),image))\n",
    "    \n",
    "images=np.array([image[1] for image in images_with_index])\n",
    "names=np.array([image[0] for image in images_with_index])\n",
    "labels=df['Cell_Type'].to_numpy()\n",
    "assert sum(names!=df['Cell_ID'].to_numpy()) ==0  #Check that the order has been preserved\n",
    "DNA_pos=df[\"DNA_pos\"].to_numpy()\n",
    "Touches_Boundary=df[\"Touches_boundary\"].to_numpy()\n",
    "labels=df['Cell_Type'].to_numpy()\n",
    "\n",
    "latent_df=pd.read_csv(basepath+\"\\\\Results\\\\\"+\"Barlow_latents433.csv\")\n",
    "namesdf=latent_df[\"Cell_ID\"].to_numpy()\n",
    "display_images=[image_dict[int(i)]['Ch1'] for i in namesdf]\n",
    "barlow=latent_df.drop(\"Cell_ID\",axis=1).to_numpy()\n",
    "labelsdf=[labels[np.where(names==int(i))] for i in namesdf]\n",
    "\n",
    "colors=[]\n",
    "for label in labelsdf:\n",
    "    if int(label)==0:\n",
    "        colors.append('red')\n",
    "    elif int(label)==2:\n",
    "        colors.append('blue')\n"
   ]
  },
  {
   "cell_type": "code",
   "execution_count": null,
   "metadata": {},
   "outputs": [],
   "source": [
    "fit = umap.UMAP(n_components=2)\n",
    "u = fit.fit_transform(barlow)\n",
    "interactive_session(u,display_images,colors,namesdf)\n"
   ]
  },
  {
   "cell_type": "code",
   "execution_count": null,
   "metadata": {},
   "outputs": [],
   "source": [
    "import dash\n",
    "print(dash.__version__)"
   ]
  },
  {
   "cell_type": "code",
   "execution_count": null,
   "metadata": {},
   "outputs": [],
   "source": [
    "fit = umap.UMAP(n_components=3)\n",
    "u = fit.fit_transform(barlow)\n",
    "interactive_session(u,display_images,colors,namesdf)\n"
   ]
  },
  {
   "cell_type": "code",
   "execution_count": null,
   "metadata": {},
   "outputs": [],
   "source": [
    "fit = umap.UMAP(n_components=1)\n",
    "u = fit.fit_transform(barlow)\n",
    "make_tile(display_images=display_images,u=u,n=100,savepath=False)"
   ]
  },
  {
   "cell_type": "code",
   "execution_count": null,
   "metadata": {},
   "outputs": [],
   "source": [
    "df=pd.read_csv(basepath+\"//Results//Resnet18_70.41//Loss.csv\")"
   ]
  },
  {
   "cell_type": "code",
   "execution_count": null,
   "metadata": {},
   "outputs": [],
   "source": [
    "a=list(df[\"train_acc\"].to_numpy())\n",
    "b=list(df[\"val_acc\"].to_numpy())"
   ]
  },
  {
   "cell_type": "code",
   "execution_count": null,
   "metadata": {},
   "outputs": [],
   "source": [
    "a=a[::-1]\n",
    "a.append(50)\n",
    "a=a[::-1]"
   ]
  },
  {
   "cell_type": "code",
   "execution_count": null,
   "metadata": {},
   "outputs": [],
   "source": [
    "b=b[::-1]\n",
    "b.append(50)\n",
    "b=b[::-1]"
   ]
  },
  {
   "cell_type": "code",
   "execution_count": null,
   "metadata": {},
   "outputs": [],
   "source": [
    "import matplotlib.pyplot as plt\n",
    "plt.plot(a,label=\"Train accuracy\")\n",
    "plt.plot(b,label=\"Validation accuracy\")\n",
    "plt.legend()"
   ]
  },
  {
   "cell_type": "code",
   "execution_count": null,
   "metadata": {},
   "outputs": [],
   "source": [
    "import cv2 as cv\n",
    "import numpy as np\n",
    "import pandas as pd\n",
    "from Helper_functions import interactive_session, load_dict, make_tile, adjust_contrast\n",
    "import umap\n",
    "from sklearn.manifold import TSNE\n",
    "import matplotlib.pyplot as plt"
   ]
  },
  {
   "cell_type": "code",
   "execution_count": null,
   "metadata": {},
   "outputs": [],
   "source": [
    "#Import required packages\n",
    "import cv2 as cv\n",
    "import os\n",
    "import matplotlib.pyplot as plt\n",
    "import numpy as np\n",
    "import pandas as pd\n",
    "import cv2 as cv\n",
    "import numpy as np\n",
    "import torch\n",
    "from torchvision import transforms\n",
    "from torch.utils.data import DataLoader\n",
    "import pandas as pd\n",
    "from AI_functions import resnet18, BarlowTwins, ImageCollateFunction,BarlowTwinsLoss,CellDataset,data_generator\n"
   ]
  },
  {
   "cell_type": "code",
   "execution_count": null,
   "metadata": {},
   "outputs": [],
   "source": [
    "#This is for HEROKU\n",
    "DATASETS=np.array([\"BoneMarrow_sample1\",\"Retina_1_2\",\"Colon\",\"Choroid\"])\n",
    "\n",
    "basepath = r\"C:\\Users\\Thibaut Goldsborough\\Documents\\Seth_BoneMarrow\\Results\"\n",
    "outpath = basepath + \"\\\\Results\"\n",
    "df_path=\"\\Barlow_latents104.csv\"\n",
    "\n",
    "\n",
    "df=pd.read_csv(basepath+df_path)\n",
    "cell_names=df[\"Cell_ID\"].to_numpy()\n",
    "Labels=df[\"Dataset\"].to_numpy()\n",
    "\n",
    "latents=df.iloc[:,1:].drop([\"Cell_ID\",\"Dataset\",\"U1\",\"U0\"],axis=1).to_numpy()\n",
    "print(latents.shape)\n"
   ]
  },
  {
   "cell_type": "code",
   "execution_count": null,
   "metadata": {},
   "outputs": [],
   "source": []
  },
  {
   "cell_type": "code",
   "execution_count": null,
   "metadata": {},
   "outputs": [],
   "source": [
    "display_images=np.zeros((len(cell_names),64,64))\n",
    "for DATASET in np.unique(Labels):\n",
    "    print(DATASET)\n",
    "    image_path = r\"C:\\Users\\Thibaut Goldsborough\\Documents\\Seth_BoneMarrow\\Data\\\\\" +DATASET +\"\\\\Outputs\"\n",
    "    cell_info=pd.read_csv(image_path+\"\\\\cell_info.csv\")\n",
    "    names=cell_info[\"Cell_ID\"].to_numpy()\n",
    "    cell_names_subset=cell_names[np.where(Labels==DATASET)]\n",
    "    image_dict=load_dict(image_path,names,64)\n",
    "    display_images[np.where(Labels==DATASET)]=[image_dict[int(i)]['Ch1'] for i in cell_names_subset]  #This line is just beautiful\n",
    "\n",
    "\n"
   ]
  },
  {
   "cell_type": "code",
   "execution_count": null,
   "metadata": {},
   "outputs": [],
   "source": [
    "COLOR_DICT={\"BoneMarrow_sample1\":\"red\",\"Retina_1_2\":\"limegreen\",\"Colon\":\"magenta\",\"Choroid\":\"blue\"}\n",
    "inv_map = {v: k for k, v in COLOR_DICT.items()}\n",
    "colors=[COLOR_DICT[i] for i in Labels]"
   ]
  },
  {
   "cell_type": "code",
   "execution_count": null,
   "metadata": {},
   "outputs": [],
   "source": [
    "fit = TSNE(n_components=2)\n",
    "u = fit.fit_transform(latents)\n",
    "\n",
    "df.to_csv(basepath+df_path)\n",
    "\n",
    "#u0=df[\"U0\"]\n",
    "#u1=df[\"U1\"]\n"
   ]
  },
  {
   "cell_type": "code",
   "execution_count": null,
   "metadata": {},
   "outputs": [],
   "source": [
    "df[\"U0\"]=u[:,0]\n",
    "df[\"U1\"]=u[:,1]\n",
    "df.to_csv(basepath+df_path)"
   ]
  },
  {
   "cell_type": "code",
   "execution_count": null,
   "metadata": {},
   "outputs": [],
   "source": [
    "import matplotlib.patches as mpatches\n",
    "\n",
    "fig=plt.figure(figsize=(15,10))\n",
    "\n",
    "patches=[mpatches.Patch(color=color, label=tissue) for tissue,color in COLOR_DICT.items()]\n",
    "plt.legend(handles=patches)\n",
    "plt.scatter(u[:,0],u[:,1],c=colors,s=1)"
   ]
  },
  {
   "cell_type": "code",
   "execution_count": null,
   "metadata": {},
   "outputs": [],
   "source": [
    "import matplotlib.patches as mpatches\n",
    "\n",
    "fig=plt.figure(figsize=(15,10))\n",
    "\n",
    "patches=[mpatches.Patch(color=color, label=tissue) for tissue,color in COLOR_DICT.items()]\n",
    "plt.legend(handles=patches)\n",
    "plt.scatter(u[:,0],u[:,1],c=colors,s=1)"
   ]
  },
  {
   "cell_type": "code",
   "execution_count": null,
   "metadata": {},
   "outputs": [],
   "source": [
    "interactive_session(u,display_images,colors,cell_names)"
   ]
  },
  {
   "cell_type": "code",
   "execution_count": null,
   "metadata": {},
   "outputs": [],
   "source": [
    "display_images-=np.min(display_images)\n",
    "display_images/=np.max(display_images)\n",
    "display_images*=255\n",
    "adjusted_contrast=[255-cv.convertScaleAbs(i, alpha=4, beta=-140) for i in display_images]"
   ]
  },
  {
   "cell_type": "code",
   "execution_count": null,
   "metadata": {},
   "outputs": [],
   "source": [
    "np.save(r\"C:\\Users\\Thibaut Goldsborough\\Documents\\Seth_BoneMarrow\\HEROKU_Atlas\\DATA1\\\\\"+\"Images\"+\"_Ch1.npy\",adjusted_contrast)"
   ]
  }
 ],
 "metadata": {
  "interpreter": {
   "hash": "96e92283253362575e1b2577a58171a1def071c2d4840c376515c402fb1735d8"
  },
  "kernelspec": {
   "display_name": "Python 3.9.7 ('deep_learning')",
   "language": "python",
   "name": "python3"
  },
  "language_info": {
   "codemirror_mode": {
    "name": "ipython",
    "version": 3
   },
   "file_extension": ".py",
   "mimetype": "text/x-python",
   "name": "python",
   "nbconvert_exporter": "python",
   "pygments_lexer": "ipython3",
   "version": "3.9.7"
  },
  "orig_nbformat": 4
 },
 "nbformat": 4,
 "nbformat_minor": 2
}
